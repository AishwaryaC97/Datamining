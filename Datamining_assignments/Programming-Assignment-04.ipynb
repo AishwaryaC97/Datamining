{
 "cells": [
  {
   "cell_type": "markdown",
   "metadata": {},
   "source": [
    "<table width = 400 align=\"left\" style=\"font-size:20px\">\n",
    "<tr>\n",
    "    <td style=\"text-align:left\"><b>Name</b></td>\n",
    "    <td style=\"text-align:left\">Aishwarya Chandramouli</td>\n",
    "</tr>\n",
    "<tr>\n",
    "    <td> </td>\n",
    "    <td style=\"text-align:left\">ac78n@mst.edu</td> \n",
    "</tr>\n",
    "<tr>\n",
    "    <td style=\"text-align:left\"><b>Course:</b></td>\n",
    "    <td style=\"text-align:left\">CS 5402</td>\n",
    "</tr>\n",
    "<tr>\n",
    "    <td style=\"text-align:left\"><b>Assignment:</b></td>\n",
    "    <td style=\"text-align:left\">Programming Assignment 04</td>\n",
    "</tr>\n",
    "<tr>\n",
    "    <td style=\"text-align:left\"><b>Date:</b></td>\n",
    "    <td style=\"text-align:left\">2021-07-19</td>\n",
    "</tr>\n",
    "</table>"
   ]
  },
  {
   "cell_type": "code",
   "execution_count": 37,
   "metadata": {},
   "outputs": [],
   "source": [
    "# Imported for data management (dataframes)\n",
    "import pandas as pd\n",
    "import numpy as np\n",
    "\n",
    "#Imported for regression\n",
    "import statsmodels.api as sm\n",
    "from sklearn.linear_model import LinearRegression\n",
    "\n",
    "# Imported for visualization\n",
    "import seaborn as sns\n",
    "import matplotlib.pyplot as plt\n",
    "\n",
    "# Imported to create train/test partitioning\n",
    "from sklearn.model_selection import train_test_split\n",
    "\n",
    "\n",
    "#Imported for KNN Classification\n",
    "from sklearn.neighbors import KNeighborsClassifier\n",
    "\n",
    "# Imported to use confusion matrix.\n",
    "from sklearn.metrics import confusion_matrix\n",
    "from sklearn.metrics import accuracy_score\n",
    "\n",
    "from sklearn.datasets import load_iris"
   ]
  },
  {
   "cell_type": "markdown",
   "metadata": {},
   "source": [
    "## Concept Description:\n",
    "\n",
    "To create a model for determining whether patients have Chronic Heart disease or not using KNN (K Nearest Neighbour) Classifier."
   ]
  },
  {
   "cell_type": "markdown",
   "metadata": {},
   "source": [
    "## Data Collection:\n",
    "This data set was provided by Perry B. koob as a part of our assignment. "
   ]
  },
  {
   "cell_type": "markdown",
   "metadata": {},
   "source": [
    "## Example Description:\n",
    "\n",
    "<b>age</b>  \n",
    "This is an Interval attribute which describes the age of the patient\n",
    "\n",
    "<b>cigsPerDay</b>  \n",
    "This is a Ratio attribute which describes the number of cigarettes consumed by the patient per day\n",
    "\n",
    "<b>totChol</b>  \n",
    "This is a Ratio attribute which describes the Total Cholestrol level\n",
    "\n",
    "<b>sysBP</b>  \n",
    "This is an Interval attribute that describes the Systolic Blood Pressure\n",
    "\n",
    "<b>diaBP</b>  \n",
    "This is an Interval attribute that describes the Diastolic Blood Pressure\n",
    "\n",
    "<b>BMI</b>  \n",
    "This is an Interval attribute that describes Body Mass Index\n",
    "\n",
    "<b>heartRate</b>  \n",
    "This is a Ratio attribute that describes the Heart Rate of the patient\n",
    "\n",
    "<b>glucose</b>  \n",
    "This is an Interval attribute that describes the Blood Glucose level of the patient\n",
    "\n",
    "<b>CHD</b>  \n",
    "This is Ordinal since the patients are classified as either having CHD (CHD = 1) or does not have CHD(CHD=0)"
   ]
  },
  {
   "cell_type": "markdown",
   "metadata": {},
   "source": [
    "## Data Import and Wrangling: \n",
    "\n",
    "The results of each search is read from the respective comma separated value file (csv) into separate dataframes.  Careful attention is paid to make sure the data is read in as character strings."
   ]
  },
  {
   "cell_type": "code",
   "execution_count": 2,
   "metadata": {},
   "outputs": [
    {
     "data": {
      "text/html": [
       "<div>\n",
       "<style scoped>\n",
       "    .dataframe tbody tr th:only-of-type {\n",
       "        vertical-align: middle;\n",
       "    }\n",
       "\n",
       "    .dataframe tbody tr th {\n",
       "        vertical-align: top;\n",
       "    }\n",
       "\n",
       "    .dataframe thead th {\n",
       "        text-align: right;\n",
       "    }\n",
       "</style>\n",
       "<table border=\"1\" class=\"dataframe\">\n",
       "  <thead>\n",
       "    <tr style=\"text-align: right;\">\n",
       "      <th></th>\n",
       "      <th>age</th>\n",
       "      <th>cigsPerDay</th>\n",
       "      <th>totChol</th>\n",
       "      <th>sysBP</th>\n",
       "      <th>diaBP</th>\n",
       "      <th>BMI</th>\n",
       "      <th>heartRate</th>\n",
       "      <th>glucose</th>\n",
       "      <th>CHD</th>\n",
       "    </tr>\n",
       "  </thead>\n",
       "  <tbody>\n",
       "    <tr>\n",
       "      <th>0</th>\n",
       "      <td>39</td>\n",
       "      <td>0</td>\n",
       "      <td>195</td>\n",
       "      <td>106.0</td>\n",
       "      <td>70.0</td>\n",
       "      <td>26.97</td>\n",
       "      <td>80</td>\n",
       "      <td>77</td>\n",
       "      <td>0</td>\n",
       "    </tr>\n",
       "    <tr>\n",
       "      <th>1</th>\n",
       "      <td>46</td>\n",
       "      <td>0</td>\n",
       "      <td>250</td>\n",
       "      <td>121.0</td>\n",
       "      <td>81.0</td>\n",
       "      <td>28.73</td>\n",
       "      <td>95</td>\n",
       "      <td>76</td>\n",
       "      <td>0</td>\n",
       "    </tr>\n",
       "    <tr>\n",
       "      <th>2</th>\n",
       "      <td>48</td>\n",
       "      <td>20</td>\n",
       "      <td>245</td>\n",
       "      <td>127.5</td>\n",
       "      <td>80.0</td>\n",
       "      <td>25.34</td>\n",
       "      <td>75</td>\n",
       "      <td>70</td>\n",
       "      <td>0</td>\n",
       "    </tr>\n",
       "    <tr>\n",
       "      <th>3</th>\n",
       "      <td>61</td>\n",
       "      <td>30</td>\n",
       "      <td>225</td>\n",
       "      <td>150.0</td>\n",
       "      <td>95.0</td>\n",
       "      <td>28.58</td>\n",
       "      <td>65</td>\n",
       "      <td>103</td>\n",
       "      <td>1</td>\n",
       "    </tr>\n",
       "    <tr>\n",
       "      <th>4</th>\n",
       "      <td>46</td>\n",
       "      <td>23</td>\n",
       "      <td>285</td>\n",
       "      <td>130.0</td>\n",
       "      <td>84.0</td>\n",
       "      <td>23.10</td>\n",
       "      <td>85</td>\n",
       "      <td>85</td>\n",
       "      <td>0</td>\n",
       "    </tr>\n",
       "    <tr>\n",
       "      <th>...</th>\n",
       "      <td>...</td>\n",
       "      <td>...</td>\n",
       "      <td>...</td>\n",
       "      <td>...</td>\n",
       "      <td>...</td>\n",
       "      <td>...</td>\n",
       "      <td>...</td>\n",
       "      <td>...</td>\n",
       "      <td>...</td>\n",
       "    </tr>\n",
       "    <tr>\n",
       "      <th>3809</th>\n",
       "      <td>68</td>\n",
       "      <td>0</td>\n",
       "      <td>176</td>\n",
       "      <td>168.0</td>\n",
       "      <td>97.0</td>\n",
       "      <td>23.14</td>\n",
       "      <td>60</td>\n",
       "      <td>79</td>\n",
       "      <td>1</td>\n",
       "    </tr>\n",
       "    <tr>\n",
       "      <th>3810</th>\n",
       "      <td>50</td>\n",
       "      <td>1</td>\n",
       "      <td>313</td>\n",
       "      <td>179.0</td>\n",
       "      <td>92.0</td>\n",
       "      <td>25.97</td>\n",
       "      <td>66</td>\n",
       "      <td>86</td>\n",
       "      <td>1</td>\n",
       "    </tr>\n",
       "    <tr>\n",
       "      <th>3811</th>\n",
       "      <td>51</td>\n",
       "      <td>43</td>\n",
       "      <td>207</td>\n",
       "      <td>126.5</td>\n",
       "      <td>80.0</td>\n",
       "      <td>19.71</td>\n",
       "      <td>65</td>\n",
       "      <td>68</td>\n",
       "      <td>0</td>\n",
       "    </tr>\n",
       "    <tr>\n",
       "      <th>3812</th>\n",
       "      <td>48</td>\n",
       "      <td>20</td>\n",
       "      <td>248</td>\n",
       "      <td>131.0</td>\n",
       "      <td>72.0</td>\n",
       "      <td>22.00</td>\n",
       "      <td>84</td>\n",
       "      <td>86</td>\n",
       "      <td>0</td>\n",
       "    </tr>\n",
       "    <tr>\n",
       "      <th>3813</th>\n",
       "      <td>52</td>\n",
       "      <td>0</td>\n",
       "      <td>269</td>\n",
       "      <td>133.5</td>\n",
       "      <td>83.0</td>\n",
       "      <td>21.47</td>\n",
       "      <td>80</td>\n",
       "      <td>107</td>\n",
       "      <td>0</td>\n",
       "    </tr>\n",
       "  </tbody>\n",
       "</table>\n",
       "<p>3814 rows × 9 columns</p>\n",
       "</div>"
      ],
      "text/plain": [
       "      age  cigsPerDay  totChol  sysBP  diaBP    BMI  heartRate  glucose  CHD\n",
       "0      39           0      195  106.0   70.0  26.97         80       77    0\n",
       "1      46           0      250  121.0   81.0  28.73         95       76    0\n",
       "2      48          20      245  127.5   80.0  25.34         75       70    0\n",
       "3      61          30      225  150.0   95.0  28.58         65      103    1\n",
       "4      46          23      285  130.0   84.0  23.10         85       85    0\n",
       "...   ...         ...      ...    ...    ...    ...        ...      ...  ...\n",
       "3809   68           0      176  168.0   97.0  23.14         60       79    1\n",
       "3810   50           1      313  179.0   92.0  25.97         66       86    1\n",
       "3811   51          43      207  126.5   80.0  19.71         65       68    0\n",
       "3812   48          20      248  131.0   72.0  22.00         84       86    0\n",
       "3813   52           0      269  133.5   83.0  21.47         80      107    0\n",
       "\n",
       "[3814 rows x 9 columns]"
      ]
     },
     "execution_count": 2,
     "metadata": {},
     "output_type": "execute_result"
    }
   ],
   "source": [
    "#reading the data from csv into a dataframe\n",
    "df_chd = pd.read_csv(\"heart-disease-data.csv\")\n",
    "df_chd"
   ]
  },
  {
   "cell_type": "code",
   "execution_count": 3,
   "metadata": {},
   "outputs": [
    {
     "data": {
      "text/plain": [
       "Index(['age', 'cigsPerDay', 'totChol', 'sysBP', 'diaBP', 'BMI', 'heartRate',\n",
       "       'glucose', 'CHD'],\n",
       "      dtype='object')"
      ]
     },
     "execution_count": 3,
     "metadata": {},
     "output_type": "execute_result"
    }
   ],
   "source": [
    "df_chd.columns"
   ]
  },
  {
   "cell_type": "code",
   "execution_count": 4,
   "metadata": {},
   "outputs": [
    {
     "data": {
      "text/plain": [
       "age           False\n",
       "cigsPerDay    False\n",
       "totChol       False\n",
       "sysBP         False\n",
       "diaBP         False\n",
       "BMI            True\n",
       "heartRate     False\n",
       "glucose       False\n",
       "CHD           False\n",
       "dtype: bool"
      ]
     },
     "execution_count": 4,
     "metadata": {},
     "output_type": "execute_result"
    }
   ],
   "source": [
    "df_chd.isna().any()"
   ]
  },
  {
   "cell_type": "markdown",
   "metadata": {},
   "source": [
    "## Exploratory Data Analysis:\n",
    "Looking into what type of measure the attributes are."
   ]
  },
  {
   "cell_type": "code",
   "execution_count": 5,
   "metadata": {},
   "outputs": [
    {
     "data": {
      "text/html": [
       "<div>\n",
       "<style scoped>\n",
       "    .dataframe tbody tr th:only-of-type {\n",
       "        vertical-align: middle;\n",
       "    }\n",
       "\n",
       "    .dataframe tbody tr th {\n",
       "        vertical-align: top;\n",
       "    }\n",
       "\n",
       "    .dataframe thead th {\n",
       "        text-align: right;\n",
       "    }\n",
       "</style>\n",
       "<table border=\"1\" class=\"dataframe\">\n",
       "  <thead>\n",
       "    <tr style=\"text-align: right;\">\n",
       "      <th></th>\n",
       "      <th>age</th>\n",
       "      <th>cigsPerDay</th>\n",
       "      <th>totChol</th>\n",
       "      <th>sysBP</th>\n",
       "      <th>diaBP</th>\n",
       "      <th>BMI</th>\n",
       "      <th>heartRate</th>\n",
       "      <th>glucose</th>\n",
       "      <th>CHD</th>\n",
       "    </tr>\n",
       "  </thead>\n",
       "  <tbody>\n",
       "    <tr>\n",
       "      <th>count</th>\n",
       "      <td>3814.000000</td>\n",
       "      <td>3814.000000</td>\n",
       "      <td>3814.000000</td>\n",
       "      <td>3814.000000</td>\n",
       "      <td>3814.000000</td>\n",
       "      <td>3800.000000</td>\n",
       "      <td>3814.000000</td>\n",
       "      <td>3814.000000</td>\n",
       "      <td>3814.000000</td>\n",
       "    </tr>\n",
       "    <tr>\n",
       "      <th>mean</th>\n",
       "      <td>49.637389</td>\n",
       "      <td>8.983482</td>\n",
       "      <td>236.944940</td>\n",
       "      <td>132.457787</td>\n",
       "      <td>82.938647</td>\n",
       "      <td>25.806174</td>\n",
       "      <td>75.708705</td>\n",
       "      <td>81.921867</td>\n",
       "      <td>0.154693</td>\n",
       "    </tr>\n",
       "    <tr>\n",
       "      <th>std</th>\n",
       "      <td>8.603110</td>\n",
       "      <td>11.920072</td>\n",
       "      <td>44.736793</td>\n",
       "      <td>22.167289</td>\n",
       "      <td>11.971146</td>\n",
       "      <td>4.068388</td>\n",
       "      <td>11.925696</td>\n",
       "      <td>24.023192</td>\n",
       "      <td>0.361659</td>\n",
       "    </tr>\n",
       "    <tr>\n",
       "      <th>min</th>\n",
       "      <td>32.000000</td>\n",
       "      <td>0.000000</td>\n",
       "      <td>107.000000</td>\n",
       "      <td>83.500000</td>\n",
       "      <td>48.000000</td>\n",
       "      <td>15.540000</td>\n",
       "      <td>44.000000</td>\n",
       "      <td>40.000000</td>\n",
       "      <td>0.000000</td>\n",
       "    </tr>\n",
       "    <tr>\n",
       "      <th>25%</th>\n",
       "      <td>42.000000</td>\n",
       "      <td>0.000000</td>\n",
       "      <td>206.000000</td>\n",
       "      <td>117.000000</td>\n",
       "      <td>75.000000</td>\n",
       "      <td>23.080000</td>\n",
       "      <td>68.000000</td>\n",
       "      <td>71.000000</td>\n",
       "      <td>0.000000</td>\n",
       "    </tr>\n",
       "    <tr>\n",
       "      <th>50%</th>\n",
       "      <td>49.000000</td>\n",
       "      <td>0.000000</td>\n",
       "      <td>234.000000</td>\n",
       "      <td>128.000000</td>\n",
       "      <td>82.000000</td>\n",
       "      <td>25.400000</td>\n",
       "      <td>75.000000</td>\n",
       "      <td>78.000000</td>\n",
       "      <td>0.000000</td>\n",
       "    </tr>\n",
       "    <tr>\n",
       "      <th>75%</th>\n",
       "      <td>56.750000</td>\n",
       "      <td>20.000000</td>\n",
       "      <td>264.000000</td>\n",
       "      <td>144.000000</td>\n",
       "      <td>90.000000</td>\n",
       "      <td>28.060000</td>\n",
       "      <td>82.000000</td>\n",
       "      <td>87.000000</td>\n",
       "      <td>0.000000</td>\n",
       "    </tr>\n",
       "    <tr>\n",
       "      <th>max</th>\n",
       "      <td>70.000000</td>\n",
       "      <td>70.000000</td>\n",
       "      <td>696.000000</td>\n",
       "      <td>295.000000</td>\n",
       "      <td>142.500000</td>\n",
       "      <td>56.800000</td>\n",
       "      <td>143.000000</td>\n",
       "      <td>394.000000</td>\n",
       "      <td>1.000000</td>\n",
       "    </tr>\n",
       "  </tbody>\n",
       "</table>\n",
       "</div>"
      ],
      "text/plain": [
       "               age   cigsPerDay      totChol        sysBP        diaBP  \\\n",
       "count  3814.000000  3814.000000  3814.000000  3814.000000  3814.000000   \n",
       "mean     49.637389     8.983482   236.944940   132.457787    82.938647   \n",
       "std       8.603110    11.920072    44.736793    22.167289    11.971146   \n",
       "min      32.000000     0.000000   107.000000    83.500000    48.000000   \n",
       "25%      42.000000     0.000000   206.000000   117.000000    75.000000   \n",
       "50%      49.000000     0.000000   234.000000   128.000000    82.000000   \n",
       "75%      56.750000    20.000000   264.000000   144.000000    90.000000   \n",
       "max      70.000000    70.000000   696.000000   295.000000   142.500000   \n",
       "\n",
       "               BMI    heartRate      glucose          CHD  \n",
       "count  3800.000000  3814.000000  3814.000000  3814.000000  \n",
       "mean     25.806174    75.708705    81.921867     0.154693  \n",
       "std       4.068388    11.925696    24.023192     0.361659  \n",
       "min      15.540000    44.000000    40.000000     0.000000  \n",
       "25%      23.080000    68.000000    71.000000     0.000000  \n",
       "50%      25.400000    75.000000    78.000000     0.000000  \n",
       "75%      28.060000    82.000000    87.000000     0.000000  \n",
       "max      56.800000   143.000000   394.000000     1.000000  "
      ]
     },
     "execution_count": 5,
     "metadata": {},
     "output_type": "execute_result"
    }
   ],
   "source": [
    "df_chd.describe()"
   ]
  },
  {
   "cell_type": "code",
   "execution_count": 6,
   "metadata": {},
   "outputs": [
    {
     "data": {
      "text/plain": [
       "age             int64\n",
       "cigsPerDay      int64\n",
       "totChol         int64\n",
       "sysBP         float64\n",
       "diaBP         float64\n",
       "BMI           float64\n",
       "heartRate       int64\n",
       "glucose         int64\n",
       "CHD             int64\n",
       "dtype: object"
      ]
     },
     "execution_count": 6,
     "metadata": {},
     "output_type": "execute_result"
    }
   ],
   "source": [
    "df_chd.dtypes"
   ]
  },
  {
   "cell_type": "code",
   "execution_count": 7,
   "metadata": {},
   "outputs": [
    {
     "data": {
      "text/plain": [
       "cigsPerDay     0\n",
       "totChol        0\n",
       "sysBP          0\n",
       "diaBP          0\n",
       "BMI           14\n",
       "heartRate      0\n",
       "glucose        0\n",
       "CHD            0\n",
       "dtype: int64"
      ]
     },
     "execution_count": 7,
     "metadata": {},
     "output_type": "execute_result"
    }
   ],
   "source": [
    "#checking for null values\n",
    "df_chd.isnull().sum()[1:9]"
   ]
  },
  {
   "cell_type": "code",
   "execution_count": 8,
   "metadata": {},
   "outputs": [
    {
     "data": {
      "text/plain": [
       "<AxesSubplot:>"
      ]
     },
     "execution_count": 8,
     "metadata": {},
     "output_type": "execute_result"
    },
    {
     "data": {
      "image/png": "[encoded data removed]",
      "text/plain": [
       "<Figure size 432x288 with 2 Axes>"
      ]
     },
     "metadata": {
      "needs_background": "light"
     },
     "output_type": "display_data"
    }
   ],
   "source": [
    "sns.heatmap(df_chd.corr(),annot=True)"
   ]
  },
  {
   "cell_type": "markdown",
   "metadata": {},
   "source": [
    "### Handling examples of the attributes with null values"
   ]
  },
  {
   "cell_type": "code",
   "execution_count": 9,
   "metadata": {},
   "outputs": [
    {
     "data": {
      "text/plain": [
       "age           False\n",
       "cigsPerDay    False\n",
       "totChol       False\n",
       "sysBP         False\n",
       "diaBP         False\n",
       "BMI            True\n",
       "heartRate     False\n",
       "glucose       False\n",
       "CHD           False\n",
       "dtype: bool"
      ]
     },
     "execution_count": 9,
     "metadata": {},
     "output_type": "execute_result"
    }
   ],
   "source": [
    "df_chd.isna().any()"
   ]
  },
  {
   "cell_type": "code",
   "execution_count": 10,
   "metadata": {},
   "outputs": [
    {
     "data": {
      "text/html": [
       "<table class=\"simpletable\">\n",
       "<caption>OLS Regression Results</caption>\n",
       "<tr>\n",
       "  <th>Dep. Variable:</th>           <td>BMI</td>       <th>  R-squared:         </th> <td>   0.145</td> \n",
       "</tr>\n",
       "<tr>\n",
       "  <th>Model:</th>                   <td>OLS</td>       <th>  Adj. R-squared:    </th> <td>   0.145</td> \n",
       "</tr>\n",
       "<tr>\n",
       "  <th>Method:</th>             <td>Least Squares</td>  <th>  F-statistic:       </th> <td>   644.1</td> \n",
       "</tr>\n",
       "<tr>\n",
       "  <th>Date:</th>             <td>Tue, 20 Jul 2021</td> <th>  Prob (F-statistic):</th> <td>2.19e-131</td>\n",
       "</tr>\n",
       "<tr>\n",
       "  <th>Time:</th>                 <td>13:21:44</td>     <th>  Log-Likelihood:    </th> <td> -10426.</td> \n",
       "</tr>\n",
       "<tr>\n",
       "  <th>No. Observations:</th>      <td>  3800</td>      <th>  AIC:               </th> <td>2.086e+04</td>\n",
       "</tr>\n",
       "<tr>\n",
       "  <th>Df Residuals:</th>          <td>  3798</td>      <th>  BIC:               </th> <td>2.087e+04</td>\n",
       "</tr>\n",
       "<tr>\n",
       "  <th>Df Model:</th>              <td>     1</td>      <th>                     </th>     <td> </td>    \n",
       "</tr>\n",
       "<tr>\n",
       "  <th>Covariance Type:</th>      <td>nonrobust</td>    <th>                     </th>     <td> </td>    \n",
       "</tr>\n",
       "</table>\n",
       "<table class=\"simpletable\">\n",
       "<tr>\n",
       "    <td></td>       <th>coef</th>     <th>std err</th>      <th>t</th>      <th>P>|t|</th>  <th>[0.025</th>    <th>0.975]</th>  \n",
       "</tr>\n",
       "<tr>\n",
       "  <th>const</th> <td>   15.0679</td> <td>    0.427</td> <td>   35.247</td> <td> 0.000</td> <td>   14.230</td> <td>   15.906</td>\n",
       "</tr>\n",
       "<tr>\n",
       "  <th>diaBP</th> <td>    0.1295</td> <td>    0.005</td> <td>   25.379</td> <td> 0.000</td> <td>    0.119</td> <td>    0.139</td>\n",
       "</tr>\n",
       "</table>\n",
       "<table class=\"simpletable\">\n",
       "<tr>\n",
       "  <th>Omnibus:</th>       <td>470.558</td> <th>  Durbin-Watson:     </th> <td>   2.009</td> \n",
       "</tr>\n",
       "<tr>\n",
       "  <th>Prob(Omnibus):</th> <td> 0.000</td>  <th>  Jarque-Bera (JB):  </th> <td> 990.409</td> \n",
       "</tr>\n",
       "<tr>\n",
       "  <th>Skew:</th>          <td> 0.759</td>  <th>  Prob(JB):          </th> <td>8.62e-216</td>\n",
       "</tr>\n",
       "<tr>\n",
       "  <th>Kurtosis:</th>      <td> 4.988</td>  <th>  Cond. No.          </th> <td>    587.</td> \n",
       "</tr>\n",
       "</table><br/><br/>Notes:<br/>[1] Standard Errors assume that the covariance matrix of the errors is correctly specified."
      ],
      "text/plain": [
       "<class 'statsmodels.iolib.summary.Summary'>\n",
       "\"\"\"\n",
       "                            OLS Regression Results                            \n",
       "==============================================================================\n",
       "Dep. Variable:                    BMI   R-squared:                       0.145\n",
       "Model:                            OLS   Adj. R-squared:                  0.145\n",
       "Method:                 Least Squares   F-statistic:                     644.1\n",
       "Date:                Tue, 20 Jul 2021   Prob (F-statistic):          2.19e-131\n",
       "Time:                        13:21:44   Log-Likelihood:                -10426.\n",
       "No. Observations:                3800   AIC:                         2.086e+04\n",
       "Df Residuals:                    3798   BIC:                         2.087e+04\n",
       "Df Model:                           1                                         \n",
       "Covariance Type:            nonrobust                                         \n",
       "==============================================================================\n",
       "                 coef    std err          t      P>|t|      [0.025      0.975]\n",
       "------------------------------------------------------------------------------\n",
       "const         15.0679      0.427     35.247      0.000      14.230      15.906\n",
       "diaBP          0.1295      0.005     25.379      0.000       0.119       0.139\n",
       "==============================================================================\n",
       "Omnibus:                      470.558   Durbin-Watson:                   2.009\n",
       "Prob(Omnibus):                  0.000   Jarque-Bera (JB):              990.409\n",
       "Skew:                           0.759   Prob(JB):                    8.62e-216\n",
       "Kurtosis:                       4.988   Cond. No.                         587.\n",
       "==============================================================================\n",
       "\n",
       "Notes:\n",
       "[1] Standard Errors assume that the covariance matrix of the errors is correctly specified.\n",
       "\"\"\""
      ]
     },
     "execution_count": 10,
     "metadata": {},
     "output_type": "execute_result"
    }
   ],
   "source": [
    "df_new = df_chd[~df_chd['BMI'].isnull()]\n",
    "x=df_new['diaBP']\n",
    "x=sm.add_constant(x)\n",
    "y=df_new['BMI']\n",
    "model=sm.OLS(y,x).fit()\n",
    "model.summary()"
   ]
  },
  {
   "cell_type": "code",
   "execution_count": 53,
   "metadata": {},
   "outputs": [
    {
     "data": {
      "text/plain": [
       "age           0\n",
       "cigsPerDay    0\n",
       "totChol       0\n",
       "sysBP         0\n",
       "diaBP         0\n",
       "BMI           0\n",
       "heartRate     0\n",
       "glucose       0\n",
       "CHD           0\n",
       "dtype: int64"
      ]
     },
     "execution_count": 53,
     "metadata": {},
     "output_type": "execute_result"
    }
   ],
   "source": [
    "df_chd['BMI'] = df_chd.apply(\n",
    "    lambda row:\n",
    "    0.1295* row.diaBP + 15.0679\n",
    "    if np.isnan(row.BMI) else row.BMI,axis=1\n",
    ")\n",
    "df_chd.isna().sum()"
   ]
  },
  {
   "cell_type": "markdown",
   "metadata": {},
   "source": [
    "From the above we can see that BMI attribute has null values."
   ]
  },
  {
   "cell_type": "code",
   "execution_count": 12,
   "metadata": {},
   "outputs": [
    {
     "data": {
      "text/plain": [
       "(3814, 9)"
      ]
     },
     "execution_count": 12,
     "metadata": {},
     "output_type": "execute_result"
    }
   ],
   "source": [
    "df_chd.shape"
   ]
  },
  {
   "cell_type": "code",
   "execution_count": 13,
   "metadata": {},
   "outputs": [],
   "source": [
    "df_BMI = df_chd.dropna(axis=0,subset=['BMI','diaBP'])\n",
    "df_BMI = df_BMI.loc[:,['BMI','diaBP']]"
   ]
  },
  {
   "cell_type": "code",
   "execution_count": 14,
   "metadata": {},
   "outputs": [],
   "source": [
    "noBMI= df_chd['BMI'].isnull()\n",
    "diaBP_noBMI = pd.DataFrame(df_chd['diaBP'][noBMI])"
   ]
  },
  {
   "cell_type": "code",
   "execution_count": 15,
   "metadata": {},
   "outputs": [
    {
     "data": {
      "text/html": [
       "<div>\n",
       "<style scoped>\n",
       "    .dataframe tbody tr th:only-of-type {\n",
       "        vertical-align: middle;\n",
       "    }\n",
       "\n",
       "    .dataframe tbody tr th {\n",
       "        vertical-align: top;\n",
       "    }\n",
       "\n",
       "    .dataframe thead th {\n",
       "        text-align: right;\n",
       "    }\n",
       "</style>\n",
       "<table border=\"1\" class=\"dataframe\">\n",
       "  <thead>\n",
       "    <tr style=\"text-align: right;\">\n",
       "      <th></th>\n",
       "      <th>BMI</th>\n",
       "      <th>diaBP</th>\n",
       "    </tr>\n",
       "  </thead>\n",
       "  <tbody>\n",
       "    <tr>\n",
       "      <th>0</th>\n",
       "      <td>26.97</td>\n",
       "      <td>70.0</td>\n",
       "    </tr>\n",
       "    <tr>\n",
       "      <th>1</th>\n",
       "      <td>28.73</td>\n",
       "      <td>81.0</td>\n",
       "    </tr>\n",
       "    <tr>\n",
       "      <th>2</th>\n",
       "      <td>25.34</td>\n",
       "      <td>80.0</td>\n",
       "    </tr>\n",
       "    <tr>\n",
       "      <th>3</th>\n",
       "      <td>28.58</td>\n",
       "      <td>95.0</td>\n",
       "    </tr>\n",
       "    <tr>\n",
       "      <th>4</th>\n",
       "      <td>23.10</td>\n",
       "      <td>84.0</td>\n",
       "    </tr>\n",
       "    <tr>\n",
       "      <th>...</th>\n",
       "      <td>...</td>\n",
       "      <td>...</td>\n",
       "    </tr>\n",
       "    <tr>\n",
       "      <th>3809</th>\n",
       "      <td>23.14</td>\n",
       "      <td>97.0</td>\n",
       "    </tr>\n",
       "    <tr>\n",
       "      <th>3810</th>\n",
       "      <td>25.97</td>\n",
       "      <td>92.0</td>\n",
       "    </tr>\n",
       "    <tr>\n",
       "      <th>3811</th>\n",
       "      <td>19.71</td>\n",
       "      <td>80.0</td>\n",
       "    </tr>\n",
       "    <tr>\n",
       "      <th>3812</th>\n",
       "      <td>22.00</td>\n",
       "      <td>72.0</td>\n",
       "    </tr>\n",
       "    <tr>\n",
       "      <th>3813</th>\n",
       "      <td>21.47</td>\n",
       "      <td>83.0</td>\n",
       "    </tr>\n",
       "  </tbody>\n",
       "</table>\n",
       "<p>3800 rows × 2 columns</p>\n",
       "</div>"
      ],
      "text/plain": [
       "        BMI  diaBP\n",
       "0     26.97   70.0\n",
       "1     28.73   81.0\n",
       "2     25.34   80.0\n",
       "3     28.58   95.0\n",
       "4     23.10   84.0\n",
       "...     ...    ...\n",
       "3809  23.14   97.0\n",
       "3810  25.97   92.0\n",
       "3811  19.71   80.0\n",
       "3812  22.00   72.0\n",
       "3813  21.47   83.0\n",
       "\n",
       "[3800 rows x 2 columns]"
      ]
     },
     "execution_count": 15,
     "metadata": {},
     "output_type": "execute_result"
    }
   ],
   "source": [
    "df_BMI"
   ]
  },
  {
   "cell_type": "markdown",
   "metadata": {},
   "source": [
    "#### Using Simple Linear Regression to impute the values"
   ]
  },
  {
   "cell_type": "code",
   "execution_count": 16,
   "metadata": {},
   "outputs": [],
   "source": [
    "X= df_BMI[['diaBP']]\n",
    "Y= df_BMI[['BMI']]\n",
    "X_train, X_test, Y_train, Y_test = train_test_split(X, Y, train_size = 0.80)\n",
    "lm=LinearRegression().fit(X_train,Y_train)\n",
    "BMI_predict = lm.predict(diaBP_noBMI)"
   ]
  },
  {
   "cell_type": "code",
   "execution_count": 17,
   "metadata": {},
   "outputs": [
    {
     "data": {
      "text/html": [
       "<div>\n",
       "<style scoped>\n",
       "    .dataframe tbody tr th:only-of-type {\n",
       "        vertical-align: middle;\n",
       "    }\n",
       "\n",
       "    .dataframe tbody tr th {\n",
       "        vertical-align: top;\n",
       "    }\n",
       "\n",
       "    .dataframe thead th {\n",
       "        text-align: right;\n",
       "    }\n",
       "</style>\n",
       "<table border=\"1\" class=\"dataframe\">\n",
       "  <thead>\n",
       "    <tr style=\"text-align: right;\">\n",
       "      <th></th>\n",
       "      <th>diaBP</th>\n",
       "    </tr>\n",
       "  </thead>\n",
       "  <tbody>\n",
       "    <tr>\n",
       "      <th>91</th>\n",
       "      <td>60.0</td>\n",
       "    </tr>\n",
       "    <tr>\n",
       "      <th>1048</th>\n",
       "      <td>85.0</td>\n",
       "    </tr>\n",
       "    <tr>\n",
       "      <th>1446</th>\n",
       "      <td>75.0</td>\n",
       "    </tr>\n",
       "    <tr>\n",
       "      <th>1456</th>\n",
       "      <td>73.0</td>\n",
       "    </tr>\n",
       "    <tr>\n",
       "      <th>1474</th>\n",
       "      <td>93.0</td>\n",
       "    </tr>\n",
       "    <tr>\n",
       "      <th>1783</th>\n",
       "      <td>94.0</td>\n",
       "    </tr>\n",
       "    <tr>\n",
       "      <th>1844</th>\n",
       "      <td>61.0</td>\n",
       "    </tr>\n",
       "    <tr>\n",
       "      <th>1861</th>\n",
       "      <td>98.0</td>\n",
       "    </tr>\n",
       "    <tr>\n",
       "      <th>1881</th>\n",
       "      <td>100.0</td>\n",
       "    </tr>\n",
       "    <tr>\n",
       "      <th>1955</th>\n",
       "      <td>79.0</td>\n",
       "    </tr>\n",
       "    <tr>\n",
       "      <th>2281</th>\n",
       "      <td>63.5</td>\n",
       "    </tr>\n",
       "    <tr>\n",
       "      <th>2447</th>\n",
       "      <td>80.0</td>\n",
       "    </tr>\n",
       "    <tr>\n",
       "      <th>2633</th>\n",
       "      <td>75.0</td>\n",
       "    </tr>\n",
       "    <tr>\n",
       "      <th>2776</th>\n",
       "      <td>89.0</td>\n",
       "    </tr>\n",
       "  </tbody>\n",
       "</table>\n",
       "</div>"
      ],
      "text/plain": [
       "      diaBP\n",
       "91     60.0\n",
       "1048   85.0\n",
       "1446   75.0\n",
       "1456   73.0\n",
       "1474   93.0\n",
       "1783   94.0\n",
       "1844   61.0\n",
       "1861   98.0\n",
       "1881  100.0\n",
       "1955   79.0\n",
       "2281   63.5\n",
       "2447   80.0\n",
       "2633   75.0\n",
       "2776   89.0"
      ]
     },
     "execution_count": 17,
     "metadata": {},
     "output_type": "execute_result"
    }
   ],
   "source": [
    "diaBP_noBMI"
   ]
  },
  {
   "cell_type": "code",
   "execution_count": 18,
   "metadata": {},
   "outputs": [
    {
     "data": {
      "text/plain": [
       "array([[22.83021374],\n",
       "       [26.04465595],\n",
       "       [24.75887907],\n",
       "       [24.50172369],\n",
       "       [27.07327746],\n",
       "       [27.20185515],\n",
       "       [22.95879143],\n",
       "       [27.7161659 ],\n",
       "       [27.97332128],\n",
       "       [25.27318982],\n",
       "       [23.28023565],\n",
       "       [25.40176751],\n",
       "       [24.75887907],\n",
       "       [26.55896671]])"
      ]
     },
     "execution_count": 18,
     "metadata": {},
     "output_type": "execute_result"
    }
   ],
   "source": [
    "BMI_predict"
   ]
  },
  {
   "cell_type": "code",
   "execution_count": 19,
   "metadata": {},
   "outputs": [
    {
     "data": {
      "text/html": [
       "<div>\n",
       "<style scoped>\n",
       "    .dataframe tbody tr th:only-of-type {\n",
       "        vertical-align: middle;\n",
       "    }\n",
       "\n",
       "    .dataframe tbody tr th {\n",
       "        vertical-align: top;\n",
       "    }\n",
       "\n",
       "    .dataframe thead th {\n",
       "        text-align: right;\n",
       "    }\n",
       "</style>\n",
       "<table border=\"1\" class=\"dataframe\">\n",
       "  <thead>\n",
       "    <tr style=\"text-align: right;\">\n",
       "      <th></th>\n",
       "      <th>diaBP</th>\n",
       "      <th>BMI_pred</th>\n",
       "    </tr>\n",
       "  </thead>\n",
       "  <tbody>\n",
       "    <tr>\n",
       "      <th>91</th>\n",
       "      <td>60.0</td>\n",
       "      <td>22.830214</td>\n",
       "    </tr>\n",
       "    <tr>\n",
       "      <th>1048</th>\n",
       "      <td>85.0</td>\n",
       "      <td>26.044656</td>\n",
       "    </tr>\n",
       "    <tr>\n",
       "      <th>1446</th>\n",
       "      <td>75.0</td>\n",
       "      <td>24.758879</td>\n",
       "    </tr>\n",
       "    <tr>\n",
       "      <th>1456</th>\n",
       "      <td>73.0</td>\n",
       "      <td>24.501724</td>\n",
       "    </tr>\n",
       "    <tr>\n",
       "      <th>1474</th>\n",
       "      <td>93.0</td>\n",
       "      <td>27.073277</td>\n",
       "    </tr>\n",
       "    <tr>\n",
       "      <th>1783</th>\n",
       "      <td>94.0</td>\n",
       "      <td>27.201855</td>\n",
       "    </tr>\n",
       "    <tr>\n",
       "      <th>1844</th>\n",
       "      <td>61.0</td>\n",
       "      <td>22.958791</td>\n",
       "    </tr>\n",
       "    <tr>\n",
       "      <th>1861</th>\n",
       "      <td>98.0</td>\n",
       "      <td>27.716166</td>\n",
       "    </tr>\n",
       "    <tr>\n",
       "      <th>1881</th>\n",
       "      <td>100.0</td>\n",
       "      <td>27.973321</td>\n",
       "    </tr>\n",
       "    <tr>\n",
       "      <th>1955</th>\n",
       "      <td>79.0</td>\n",
       "      <td>25.273190</td>\n",
       "    </tr>\n",
       "    <tr>\n",
       "      <th>2281</th>\n",
       "      <td>63.5</td>\n",
       "      <td>23.280236</td>\n",
       "    </tr>\n",
       "    <tr>\n",
       "      <th>2447</th>\n",
       "      <td>80.0</td>\n",
       "      <td>25.401768</td>\n",
       "    </tr>\n",
       "    <tr>\n",
       "      <th>2633</th>\n",
       "      <td>75.0</td>\n",
       "      <td>24.758879</td>\n",
       "    </tr>\n",
       "    <tr>\n",
       "      <th>2776</th>\n",
       "      <td>89.0</td>\n",
       "      <td>26.558967</td>\n",
       "    </tr>\n",
       "  </tbody>\n",
       "</table>\n",
       "</div>"
      ],
      "text/plain": [
       "      diaBP   BMI_pred\n",
       "91     60.0  22.830214\n",
       "1048   85.0  26.044656\n",
       "1446   75.0  24.758879\n",
       "1456   73.0  24.501724\n",
       "1474   93.0  27.073277\n",
       "1783   94.0  27.201855\n",
       "1844   61.0  22.958791\n",
       "1861   98.0  27.716166\n",
       "1881  100.0  27.973321\n",
       "1955   79.0  25.273190\n",
       "2281   63.5  23.280236\n",
       "2447   80.0  25.401768\n",
       "2633   75.0  24.758879\n",
       "2776   89.0  26.558967"
      ]
     },
     "execution_count": 19,
     "metadata": {},
     "output_type": "execute_result"
    }
   ],
   "source": [
    "df_diaBP_noBMI= pd.DataFrame(diaBP_noBMI)\n",
    "df_diaBP_noBMI['BMI_pred'] = BMI_predict\n",
    "df_diaBP_noBMI"
   ]
  },
  {
   "cell_type": "code",
   "execution_count": 54,
   "metadata": {},
   "outputs": [
    {
     "data": {
      "text/html": [
       "<div>\n",
       "<style scoped>\n",
       "    .dataframe tbody tr th:only-of-type {\n",
       "        vertical-align: middle;\n",
       "    }\n",
       "\n",
       "    .dataframe tbody tr th {\n",
       "        vertical-align: top;\n",
       "    }\n",
       "\n",
       "    .dataframe thead th {\n",
       "        text-align: right;\n",
       "    }\n",
       "</style>\n",
       "<table border=\"1\" class=\"dataframe\">\n",
       "  <thead>\n",
       "    <tr style=\"text-align: right;\">\n",
       "      <th></th>\n",
       "      <th>age</th>\n",
       "      <th>cigsPerDay</th>\n",
       "      <th>totChol</th>\n",
       "      <th>sysBP</th>\n",
       "      <th>diaBP</th>\n",
       "      <th>BMI</th>\n",
       "      <th>heartRate</th>\n",
       "      <th>glucose</th>\n",
       "      <th>CHD</th>\n",
       "    </tr>\n",
       "  </thead>\n",
       "  <tbody>\n",
       "    <tr>\n",
       "      <th>0</th>\n",
       "      <td>39.0</td>\n",
       "      <td>0.0</td>\n",
       "      <td>195.0</td>\n",
       "      <td>106.0</td>\n",
       "      <td>70.0</td>\n",
       "      <td>26.97</td>\n",
       "      <td>80.0</td>\n",
       "      <td>77.0</td>\n",
       "      <td>0.0</td>\n",
       "    </tr>\n",
       "    <tr>\n",
       "      <th>1</th>\n",
       "      <td>46.0</td>\n",
       "      <td>0.0</td>\n",
       "      <td>250.0</td>\n",
       "      <td>121.0</td>\n",
       "      <td>81.0</td>\n",
       "      <td>28.73</td>\n",
       "      <td>95.0</td>\n",
       "      <td>76.0</td>\n",
       "      <td>0.0</td>\n",
       "    </tr>\n",
       "    <tr>\n",
       "      <th>2</th>\n",
       "      <td>48.0</td>\n",
       "      <td>20.0</td>\n",
       "      <td>245.0</td>\n",
       "      <td>127.5</td>\n",
       "      <td>80.0</td>\n",
       "      <td>25.34</td>\n",
       "      <td>75.0</td>\n",
       "      <td>70.0</td>\n",
       "      <td>0.0</td>\n",
       "    </tr>\n",
       "    <tr>\n",
       "      <th>3</th>\n",
       "      <td>61.0</td>\n",
       "      <td>30.0</td>\n",
       "      <td>225.0</td>\n",
       "      <td>150.0</td>\n",
       "      <td>95.0</td>\n",
       "      <td>28.58</td>\n",
       "      <td>65.0</td>\n",
       "      <td>103.0</td>\n",
       "      <td>1.0</td>\n",
       "    </tr>\n",
       "    <tr>\n",
       "      <th>4</th>\n",
       "      <td>46.0</td>\n",
       "      <td>23.0</td>\n",
       "      <td>285.0</td>\n",
       "      <td>130.0</td>\n",
       "      <td>84.0</td>\n",
       "      <td>23.10</td>\n",
       "      <td>85.0</td>\n",
       "      <td>85.0</td>\n",
       "      <td>0.0</td>\n",
       "    </tr>\n",
       "    <tr>\n",
       "      <th>...</th>\n",
       "      <td>...</td>\n",
       "      <td>...</td>\n",
       "      <td>...</td>\n",
       "      <td>...</td>\n",
       "      <td>...</td>\n",
       "      <td>...</td>\n",
       "      <td>...</td>\n",
       "      <td>...</td>\n",
       "      <td>...</td>\n",
       "    </tr>\n",
       "    <tr>\n",
       "      <th>3809</th>\n",
       "      <td>68.0</td>\n",
       "      <td>0.0</td>\n",
       "      <td>176.0</td>\n",
       "      <td>168.0</td>\n",
       "      <td>97.0</td>\n",
       "      <td>23.14</td>\n",
       "      <td>60.0</td>\n",
       "      <td>79.0</td>\n",
       "      <td>1.0</td>\n",
       "    </tr>\n",
       "    <tr>\n",
       "      <th>3810</th>\n",
       "      <td>50.0</td>\n",
       "      <td>1.0</td>\n",
       "      <td>313.0</td>\n",
       "      <td>179.0</td>\n",
       "      <td>92.0</td>\n",
       "      <td>25.97</td>\n",
       "      <td>66.0</td>\n",
       "      <td>86.0</td>\n",
       "      <td>1.0</td>\n",
       "    </tr>\n",
       "    <tr>\n",
       "      <th>3811</th>\n",
       "      <td>51.0</td>\n",
       "      <td>43.0</td>\n",
       "      <td>207.0</td>\n",
       "      <td>126.5</td>\n",
       "      <td>80.0</td>\n",
       "      <td>19.71</td>\n",
       "      <td>65.0</td>\n",
       "      <td>68.0</td>\n",
       "      <td>0.0</td>\n",
       "    </tr>\n",
       "    <tr>\n",
       "      <th>3812</th>\n",
       "      <td>48.0</td>\n",
       "      <td>20.0</td>\n",
       "      <td>248.0</td>\n",
       "      <td>131.0</td>\n",
       "      <td>72.0</td>\n",
       "      <td>22.00</td>\n",
       "      <td>84.0</td>\n",
       "      <td>86.0</td>\n",
       "      <td>0.0</td>\n",
       "    </tr>\n",
       "    <tr>\n",
       "      <th>3813</th>\n",
       "      <td>52.0</td>\n",
       "      <td>0.0</td>\n",
       "      <td>269.0</td>\n",
       "      <td>133.5</td>\n",
       "      <td>83.0</td>\n",
       "      <td>21.47</td>\n",
       "      <td>80.0</td>\n",
       "      <td>107.0</td>\n",
       "      <td>0.0</td>\n",
       "    </tr>\n",
       "  </tbody>\n",
       "</table>\n",
       "<p>3814 rows × 9 columns</p>\n",
       "</div>"
      ],
      "text/plain": [
       "       age  cigsPerDay  totChol  sysBP  diaBP    BMI  heartRate  glucose  CHD\n",
       "0     39.0         0.0    195.0  106.0   70.0  26.97       80.0     77.0  0.0\n",
       "1     46.0         0.0    250.0  121.0   81.0  28.73       95.0     76.0  0.0\n",
       "2     48.0        20.0    245.0  127.5   80.0  25.34       75.0     70.0  0.0\n",
       "3     61.0        30.0    225.0  150.0   95.0  28.58       65.0    103.0  1.0\n",
       "4     46.0        23.0    285.0  130.0   84.0  23.10       85.0     85.0  0.0\n",
       "...    ...         ...      ...    ...    ...    ...        ...      ...  ...\n",
       "3809  68.0         0.0    176.0  168.0   97.0  23.14       60.0     79.0  1.0\n",
       "3810  50.0         1.0    313.0  179.0   92.0  25.97       66.0     86.0  1.0\n",
       "3811  51.0        43.0    207.0  126.5   80.0  19.71       65.0     68.0  0.0\n",
       "3812  48.0        20.0    248.0  131.0   72.0  22.00       84.0     86.0  0.0\n",
       "3813  52.0         0.0    269.0  133.5   83.0  21.47       80.0    107.0  0.0\n",
       "\n",
       "[3814 rows x 9 columns]"
      ]
     },
     "execution_count": 54,
     "metadata": {},
     "output_type": "execute_result"
    }
   ],
   "source": [
    "df_chd"
   ]
  },
  {
   "cell_type": "markdown",
   "metadata": {},
   "source": [
    "## Mining or Analytics:\n",
    "\n",
    "#### KNN classification on the final data."
   ]
  },
  {
   "cell_type": "code",
   "execution_count": 55,
   "metadata": {},
   "outputs": [],
   "source": [
    "X=df_chd.drop(columns=['CHD']) \n",
    "Y=df_chd[['CHD']]\n",
    "#patitioning the data into train data split\n",
    "X_train,X_test,Y_train,Y_test=train_test_split(X,Y,train_size=0.8)"
   ]
  },
  {
   "cell_type": "markdown",
   "metadata": {},
   "source": [
    "### When k = 3"
   ]
  },
  {
   "cell_type": "code",
   "execution_count": 56,
   "metadata": {},
   "outputs": [
    {
     "name": "stdout",
     "output_type": "stream",
     "text": [
      "Confusion matrix when k= 3 is \n",
      " [[593  48]\n",
      " [105  17]]\n",
      "Accuracy Score when k= 3 is 0.799475753604194\n",
      "error rate when k= 3 is 0.20052424639580602\n"
     ]
    }
   ],
   "source": [
    "model=KNeighborsClassifier(n_neighbors=3)\n",
    "model.fit(X_train,Y_train['CHD'])\n",
    "y_pred=model.predict(X_test)\n",
    "pred=pd.DataFrame(y_pred)\n",
    "pred.rename(columns={0:\"pred\"},inplace=True)\n",
    "results=pd.concat([pred,Y_test.reset_index(drop=True)],axis=1)\n",
    "cm=confusion_matrix(results['CHD'],results['pred'])\n",
    "print(\"Confusion matrix when k=\",3,\"is \\n\",cm)\n",
    "acc_score=accuracy_score(results['CHD'],results['pred'])\n",
    "print(\"Accuracy Score when k=\",3,\"is\",acc_score)\n",
    "error_rate=1-acc_score\n",
    "print(\"error rate when k=\",3,\"is\",error_rate)"
   ]
  },
  {
   "cell_type": "markdown",
   "metadata": {},
   "source": [
    "### When k = 5"
   ]
  },
  {
   "cell_type": "code",
   "execution_count": 57,
   "metadata": {},
   "outputs": [
    {
     "name": "stdout",
     "output_type": "stream",
     "text": [
      "Confusion matrix when k= 5 is \n",
      " [[612  29]\n",
      " [111  11]]\n",
      "Accuracy Score when k= 5 is 0.8165137614678899\n",
      "error rate when k= 5 is 0.1834862385321101\n"
     ]
    }
   ],
   "source": [
    "model=KNeighborsClassifier(n_neighbors=5)\n",
    "model.fit(X_train,Y_train['CHD'])\n",
    "y_pred=model.predict(X_test)\n",
    "pred=pd.DataFrame(y_pred)\n",
    "pred.rename(columns={0:\"pred\"},inplace=True)\n",
    "results=pd.concat([pred,Y_test.reset_index(drop=True)],axis=1)\n",
    "cm=confusion_matrix(results['CHD'],results['pred'])\n",
    "print(\"Confusion matrix when k=\",5,\"is \\n\",cm)\n",
    "acc_score=accuracy_score(results['CHD'],results['pred'])\n",
    "print(\"Accuracy Score when k=\",5,\"is\",acc_score)\n",
    "error_rate=1-acc_score\n",
    "print(\"error rate when k=\",5,\"is\",error_rate)"
   ]
  },
  {
   "cell_type": "markdown",
   "metadata": {},
   "source": [
    "### When k = 7"
   ]
  },
  {
   "cell_type": "code",
   "execution_count": 58,
   "metadata": {},
   "outputs": [
    {
     "name": "stdout",
     "output_type": "stream",
     "text": [
      "Confusion matrix when k= 7 is \n",
      " [[627  14]\n",
      " [112  10]]\n",
      "Accuracy Score when k= 7 is 0.8348623853211009\n",
      "error rate when k= 7 is 0.1651376146788991\n"
     ]
    }
   ],
   "source": [
    "model=KNeighborsClassifier(n_neighbors=7)\n",
    "model.fit(X_train,Y_train['CHD'])\n",
    "y_pred=model.predict(X_test)\n",
    "pred=pd.DataFrame(y_pred)\n",
    "pred.rename(columns={0:\"pred\"},inplace=True)\n",
    "results=pd.concat([pred,Y_test.reset_index(drop=True)],axis=1)\n",
    "cm=confusion_matrix(results['CHD'],results['pred'])\n",
    "print(\"Confusion matrix when k=\",7,\"is \\n\",cm)\n",
    "acc_score=accuracy_score(results['CHD'],results['pred'])\n",
    "print(\"Accuracy Score when k=\",7,\"is\",acc_score)\n",
    "error_rate=1-acc_score\n",
    "print(\"error rate when k=\",7,\"is\",error_rate)"
   ]
  },
  {
   "cell_type": "markdown",
   "metadata": {},
   "source": [
    "### When k = 9"
   ]
  },
  {
   "cell_type": "code",
   "execution_count": 59,
   "metadata": {},
   "outputs": [
    {
     "name": "stdout",
     "output_type": "stream",
     "text": [
      "Confusion matrix when k= 9 is \n",
      " [[629  12]\n",
      " [113   9]]\n",
      "Accuracy Score when k= 9 is 0.836173001310616\n",
      "error rate when k= 9 is 0.163826998689384\n"
     ]
    }
   ],
   "source": [
    "model=KNeighborsClassifier(n_neighbors=9)\n",
    "model.fit(X_train,Y_train['CHD'])\n",
    "y_pred=model.predict(X_test)\n",
    "pred=pd.DataFrame(y_pred)\n",
    "pred.rename(columns={0:\"pred\"},inplace=True)\n",
    "results=pd.concat([pred,Y_test.reset_index(drop=True)],axis=1)\n",
    "cm=confusion_matrix(results['CHD'],results['pred'])\n",
    "print(\"Confusion matrix when k=\",9,\"is \\n\",cm)\n",
    "acc_score=accuracy_score(results['CHD'],results['pred'])\n",
    "print(\"Accuracy Score when k=\",9,\"is\",acc_score)\n",
    "error_rate=1-acc_score\n",
    "print(\"error rate when k=\",9,\"is\",error_rate)"
   ]
  },
  {
   "cell_type": "markdown",
   "metadata": {},
   "source": [
    "#### Color map - KNN Classifier"
   ]
  },
  {
   "cell_type": "code",
   "execution_count": 60,
   "metadata": {},
   "outputs": [],
   "source": [
    "from matplotlib.colors import ListedColormap\n",
    "from sklearn import neighbors, datasets"
   ]
  },
  {
   "cell_type": "code",
   "execution_count": 61,
   "metadata": {},
   "outputs": [
    {
     "name": "stderr",
     "output_type": "stream",
     "text": [
      "<ipython-input-61-2ab39eb71a3f>:27: MatplotlibDeprecationWarning: shading='flat' when X and Y have the same dimensions as C is deprecated since 3.3.  Either specify the corners of the quadrilaterals with X and Y, or pass shading='auto', 'nearest' or 'gouraud', or set rcParams['pcolor.shading'].  This will become an error two minor releases later.\n",
      "  plt.pcolormesh(xx, yy, Z, cmap=cmap_light)\n"
     ]
    },
    {
     "data": {
      "image/png": "[encoded data removed]",
      "text/plain": [
       "<Figure size 432x288 with 1 Axes>"
      ]
     },
     "metadata": {
      "needs_background": "light"
     },
     "output_type": "display_data"
    }
   ],
   "source": [
    "n_neighbors= 3\n",
    "iris = load_iris()\n",
    "X = iris.data[:, :2]\n",
    "y = iris.target\n",
    "h = .02\n",
    "\n",
    "# Create color maps\n",
    "cmap_light = ListedColormap(['#FFAAAA', '#AAFFAA','#00AAFF'])\n",
    "cmap_bold = ListedColormap(['#FF0000', '#00FF00','#00AAFF'])\n",
    "\n",
    "# instance of Neighbours Classifier and fit the data.\n",
    "clf = neighbors.KNeighborsClassifier(n_neighbors, weights='distance')\n",
    "clf.fit(X, y)\n",
    "\n",
    "#Min, max and limits\n",
    "x_min, x_max = X[:, 0].min() - 1, X[:, 0].max() + 1\n",
    "y_min, y_max = X[:, 1].min() - 1, X[:, 1].max() + 1\n",
    "xx, yy = np.meshgrid(np.arange(x_min, x_max, h),\n",
    "np.arange(y_min, y_max, h))\n",
    "\n",
    "# predict class using data and kNN classifier\n",
    "Z = clf.predict(np.c_[xx.ravel(), yy.ravel()])\n",
    "\n",
    "# Result into color plot\n",
    "Z = Z.reshape(xx.shape)\n",
    "plt.figure()\n",
    "plt.pcolormesh(xx, yy, Z, cmap=cmap_light)\n",
    "\n",
    "# plotting the trained points\n",
    "plt.scatter(X[:, 0], X[:, 1], c=y, cmap=cmap_bold)\n",
    "plt.xlim(xx.min(), xx.max())\n",
    "plt.ylim(yy.min(), yy.max())\n",
    "plt.show()"
   ]
  },
  {
   "cell_type": "markdown",
   "metadata": {},
   "source": [
    "## Evaluation:"
   ]
  },
  {
   "cell_type": "markdown",
   "metadata": {},
   "source": [
    "The accuracy scores for different values of k; k=3, k=5 ,k=7 and k =9 are 79, 81, 83 and 83.4%. The error rates are 0.20,0.18, 0.16 and 0.163 respectively.The model with k = 9 can be presented to the client. "
   ]
  },
  {
   "cell_type": "markdown",
   "metadata": {},
   "source": [
    "## References:"
   ]
  },
  {
   "cell_type": "markdown",
   "metadata": {},
   "source": [
    "https://pandas.pydata.org/docs/reference/api/pandas.DataFrame.any.html\n",
    "\n",
    "https://medium.com/@Cambridge_Spark/tutorial-introduction-to-missing-data-imputation-4912b51c34eb\n",
    "\n",
    "https://stackoverflow.com/questions/44097633/imputing-missing-values-using-a-linear-regression-in-python\n",
    "\n",
    "https://stackoverflow.com/questions/44097633/imputing-missing-values-using-a-linear-regression-in-python\n",
    "\n",
    "CS5402 Basic Techniques - K Nearest Neighbour.pptx\n",
    "\n",
    "CS5402 Regression.pptx"
   ]
  }
 ],
 "metadata": {
  "kernelspec": {
   "display_name": "Python 3",
   "language": "python",
   "name": "python3"
  },
  "language_info": {
   "codemirror_mode": {
    "name": "ipython",
    "version": 3
   },
   "file_extension": ".py",
   "mimetype": "text/x-python",
   "name": "python",
   "nbconvert_exporter": "python",
   "pygments_lexer": "ipython3",
   "version": "3.8.5"
  }
 },
 "nbformat": 4,
 "nbformat_minor": 4
}

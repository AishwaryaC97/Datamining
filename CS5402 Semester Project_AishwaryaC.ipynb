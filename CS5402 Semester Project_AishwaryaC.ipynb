{
 "cells": [
  {
   "cell_type": "markdown",
   "metadata": {},
   "source": [
    "<table width = 400 align=\"left\" style=\"font-size:20px\">\n",
    "<tr>\n",
    "    <td style=\"text-align:left\"><b>Name</b></td>\n",
    "    <td style=\"text-align:left\">Aishwarya Chandramouli</td>\n",
    "</tr>\n",
    "<tr>\n",
    "    <td> </td>\n",
    "    <td style=\"text-align:left\">ac78n@mst.edu</td> \n",
    "</tr>\n",
    "<tr>\n",
    "    <td style=\"text-align:left\"><b>Course:</b></td>\n",
    "    <td style=\"text-align:left\">CS 5402</td>\n",
    "</tr>\n",
    "<tr>\n",
    "    <td style=\"text-align:left\"><b>Semester Project</b></td>\n",
    "    <td style=\"text-align:left\">Author Identification of Frankenstein Book</td>\n",
    "</tr>\n",
    "<tr>\n",
    "    <td style=\"text-align:left\"><b>Date:</b></td>\n",
    "    <td style=\"text-align:left\">2021-07-27</td>\n",
    "</tr>\n",
    "</table>"
   ]
  },
  {
   "cell_type": "code",
   "execution_count": 1,
   "metadata": {},
   "outputs": [],
   "source": [
    "#Importing necessary libraries\n",
    "import pandas as pd\n",
    "import numpy as np\n",
    "import random\n",
    "import seaborn as sns\n",
    "import itertools\n",
    "import string\n",
    "\n",
    "# Imported to allow for the display of word clouds\n",
    "import matplotlib.pyplot as plt\n",
    "\n",
    "# Imported to create train/test partitioning of the data.\n",
    "from sklearn.model_selection import train_test_split\n",
    "\n",
    "# Imported to get frequency counts\n",
    "import collections\n",
    "\n",
    "# Imported to use confusion matrix\n",
    "from sklearn.metrics import confusion_matrix\n",
    "from sklearn.metrics import accuracy_score\n",
    "from sklearn.metrics import classification_report \n",
    "\n",
    "from nltk import tokenize\n",
    "\n",
    "from nltk.corpus import stopwords\n",
    "from nltk.stem import WordNetLemmatizer\n",
    "from sklearn.preprocessing import LabelEncoder"
   ]
  },
  {
   "cell_type": "markdown",
   "metadata": {},
   "source": [
    "## Concept Description:\n",
    "\n",
    "To create three datamining models to determine the authorship of Frankenstein.  "
   ]
  },
  {
   "cell_type": "markdown",
   "metadata": {},
   "source": [
    "## Data Collection:"
   ]
  },
  {
   "cell_type": "markdown",
   "metadata": {},
   "source": [
    "I have collected data from \"gutenberg.org\" source."
   ]
  },
  {
   "cell_type": "code",
   "execution_count": 2,
   "metadata": {},
   "outputs": [],
   "source": [
    "#Convert text file to a list of sentences\n",
    "def split(filepath, min_char):\n",
    "\n",
    "    # Load data into string variable and remove new line characters\n",
    "    f = open(filepath, \"r\", encoding=\"utf8\")\n",
    "    text = f.read().replace('\\n', ' ')\n",
    "    text = text.replace('.”', '”.').replace('.\"', '\".').replace('?”', '”?').replace('!”', '”!')\n",
    "    text = text.replace('--', ' ').replace('. . .', '').replace('_', '')\n",
    "    f.close()\n",
    "    \n",
    "    # Split text, tokenize into a list of sentences\n",
    "    sentences = tokenize.sent_tokenize(text)\n",
    "    #remove sentences that are less than min_char long\n",
    "    sentences = [sent for sent in sentences if len(sent) >= min_char]\n",
    "\n",
    "    return list(sentences)"
   ]
  },
  {
   "cell_type": "markdown",
   "metadata": {},
   "source": [
    "Created lists for authors:"
   ]
  },
  {
   "cell_type": "code",
   "execution_count": 3,
   "metadata": {},
   "outputs": [],
   "source": [
    "min_char = 7\n",
    "\n",
    "pollidori = split('JohnPollidori.txt', min_char = min_char)\\\n",
    "           + split('JohnPollidori2.txt', min_char = min_char)\n",
    "byron = split('Byron_vol1.txt', min_char = min_char)\\\n",
    "           + split('Byron_vol2.txt', min_char = min_char)\n",
    "percy = split('Percy_shelley.txt', min_char = min_char)\n",
    "mary = split('maryshelley_lastman.txt', min_char = min_char)\\\n",
    "           + split('frankenstein_maryshelly.txt', min_char = min_char)"
   ]
  },
  {
   "cell_type": "markdown",
   "metadata": {},
   "source": [
    "Printing the length of each lists:"
   ]
  },
  {
   "cell_type": "code",
   "execution_count": 4,
   "metadata": {},
   "outputs": [
    {
     "name": "stdout",
     "output_type": "stream",
     "text": [
      "Byron : 15156\n",
      "Pollidori : 3350\n",
      "Percy : 16427\n",
      "Mary : 10463\n"
     ]
    }
   ],
   "source": [
    "text_dict = {'Byron': byron, 'Pollidori': pollidori, 'Percy': percy, 'Mary': mary}\n",
    "\n",
    "for key in text_dict.keys():\n",
    "    print(key, ':', len(text_dict[key]))"
   ]
  },
  {
   "cell_type": "code",
   "execution_count": 5,
   "metadata": {},
   "outputs": [
    {
     "name": "stdout",
     "output_type": "stream",
     "text": [
      "The len is: 4000\n"
     ]
    }
   ],
   "source": [
    "# Set random seed\n",
    "np.random.seed(3)\n",
    "max_len = 1000\n",
    "\n",
    "names = [byron, pollidori, percy, mary]\n",
    "list1 = []\n",
    "\n",
    "for name in names:\n",
    "    name = np.random.choice(name, max_len, replace = False)\n",
    "    list1 += list(name)\n",
    "\n",
    "print('The len is:', len(list1))"
   ]
  },
  {
   "cell_type": "code",
   "execution_count": 6,
   "metadata": {},
   "outputs": [
    {
     "name": "stdout",
     "output_type": "stream",
     "text": [
      "Authors are: 4000\n"
     ]
    }
   ],
   "source": [
    "authors =  ['Pollidori']*max_len + ['Byron']*max_len + ['Percy']*max_len + ['Mary']*max_len\n",
    "print('Authors are:', len(authors))"
   ]
  },
  {
   "cell_type": "code",
   "execution_count": 7,
   "metadata": {},
   "outputs": [],
   "source": [
    "author_names = ['pollidori','byron','percy','mary']"
   ]
  },
  {
   "cell_type": "code",
   "execution_count": 8,
   "metadata": {},
   "outputs": [],
   "source": [
    "random.seed(3)\n",
    "\n",
    "# Randomly shuffle data\n",
    "zipped = list(zip(list1, authors))\n",
    "random.shuffle(zipped)\n",
    "list1, authors = zip(*zipped)"
   ]
  },
  {
   "cell_type": "markdown",
   "metadata": {},
   "source": [
    "#### OUTPUT DATA:"
   ]
  },
  {
   "cell_type": "code",
   "execution_count": 9,
   "metadata": {},
   "outputs": [
    {
     "name": "stdout",
     "output_type": "stream",
     "text": [
      "                                                text author\n",
      "0  It was indeed a paradise compared to the bleak...   Mary\n",
      "1  The play written by Polidori, which received s...  Byron\n",
      "2                                            \"Help!\"   Mary\n",
      "3       CANCELLED FRAGMENTS OF \"PROMETHEUS UNBOUND\".  Percy\n",
      "4  The lines from Christabel are these—          ...  Byron\n"
     ]
    }
   ],
   "source": [
    "output_auth = pd.DataFrame()\n",
    "#output_auth['id'] \n",
    "output_auth['text'] = list1\n",
    "output_auth['author'] = authors\n",
    "\n",
    "print(output_auth.head())"
   ]
  },
  {
   "cell_type": "markdown",
   "metadata": {},
   "source": [
    "#### Exporting the data to CSV file:"
   ]
  },
  {
   "cell_type": "code",
   "execution_count": 10,
   "metadata": {},
   "outputs": [],
   "source": [
    "output_auth.to_csv('authors_train_data_final.csv', index=False)"
   ]
  },
  {
   "cell_type": "markdown",
   "metadata": {},
   "source": [
    "## Example Description:\n",
    "\n",
    "<b>Text</b>\n",
    "\n",
    "This is a nominal attribute that contains texts written by author.\n",
    "\n",
    "<b>Author</b>\n",
    "\n",
    "This is a nominal attribute that contains names of the author."
   ]
  },
  {
   "cell_type": "markdown",
   "metadata": {},
   "source": [
    "## Data Import and Wrangling: "
   ]
  },
  {
   "cell_type": "markdown",
   "metadata": {},
   "source": [
    "The results of each search is read from the respective excel into separate dataframes.  Careful attention is paid to make sure the data is read in as character strings."
   ]
  },
  {
   "cell_type": "code",
   "execution_count": 11,
   "metadata": {},
   "outputs": [
    {
     "data": {
      "text/html": [
       "<div>\n",
       "<style scoped>\n",
       "    .dataframe tbody tr th:only-of-type {\n",
       "        vertical-align: middle;\n",
       "    }\n",
       "\n",
       "    .dataframe tbody tr th {\n",
       "        vertical-align: top;\n",
       "    }\n",
       "\n",
       "    .dataframe thead th {\n",
       "        text-align: right;\n",
       "    }\n",
       "</style>\n",
       "<table border=\"1\" class=\"dataframe\">\n",
       "  <thead>\n",
       "    <tr style=\"text-align: right;\">\n",
       "      <th></th>\n",
       "      <th>text</th>\n",
       "      <th>author</th>\n",
       "    </tr>\n",
       "  </thead>\n",
       "  <tbody>\n",
       "    <tr>\n",
       "      <th>0</th>\n",
       "      <td>It was indeed a paradise compared to the bleak...</td>\n",
       "      <td>Mary</td>\n",
       "    </tr>\n",
       "    <tr>\n",
       "      <th>1</th>\n",
       "      <td>The play written by Polidori, which received s...</td>\n",
       "      <td>Byron</td>\n",
       "    </tr>\n",
       "    <tr>\n",
       "      <th>2</th>\n",
       "      <td>\"Help!\"</td>\n",
       "      <td>Mary</td>\n",
       "    </tr>\n",
       "    <tr>\n",
       "      <th>3</th>\n",
       "      <td>CANCELLED FRAGMENTS OF \"PROMETHEUS UNBOUND\".</td>\n",
       "      <td>Percy</td>\n",
       "    </tr>\n",
       "    <tr>\n",
       "      <th>4</th>\n",
       "      <td>The lines from Christabel are these—          ...</td>\n",
       "      <td>Byron</td>\n",
       "    </tr>\n",
       "  </tbody>\n",
       "</table>\n",
       "</div>"
      ],
      "text/plain": [
       "                                                text author\n",
       "0  It was indeed a paradise compared to the bleak...   Mary\n",
       "1  The play written by Polidori, which received s...  Byron\n",
       "2                                            \"Help!\"   Mary\n",
       "3       CANCELLED FRAGMENTS OF \"PROMETHEUS UNBOUND\".  Percy\n",
       "4  The lines from Christabel are these—          ...  Byron"
      ]
     },
     "execution_count": 11,
     "metadata": {},
     "output_type": "execute_result"
    }
   ],
   "source": [
    "df_author = pd.read_csv('authors_train_data_final.csv')\n",
    "df_author.head()"
   ]
  },
  {
   "cell_type": "code",
   "execution_count": 12,
   "metadata": {},
   "outputs": [
    {
     "data": {
      "text/plain": [
       "Index(['text', 'author'], dtype='object')"
      ]
     },
     "execution_count": 12,
     "metadata": {},
     "output_type": "execute_result"
    }
   ],
   "source": [
    "df_author.columns"
   ]
  },
  {
   "cell_type": "code",
   "execution_count": 13,
   "metadata": {},
   "outputs": [],
   "source": [
    "lemmatiser = WordNetLemmatizer()\n",
    "\n",
    "#Text Processing\n",
    "def text_process(tex):\n",
    "    # 1. Removal of Punctuation Marks \n",
    "    nopunct=[char for char in tex if char not in string.punctuation]\n",
    "    nopunct=''.join(nopunct)\n",
    "    # 2. Lemmatisation \n",
    "    a=''\n",
    "    i=0\n",
    "    for i in range(len(nopunct.split())):\n",
    "        b=lemmatiser.lemmatize(nopunct.split()[i], pos=\"v\")\n",
    "        a=a+b+' '\n",
    "    # 3. Removal of Stopwords\n",
    "    return [word for word in a.split() if word.lower() not \n",
    "            in stopwords.words('english')]"
   ]
  },
  {
   "cell_type": "code",
   "execution_count": 14,
   "metadata": {},
   "outputs": [],
   "source": [
    "y = df_author['author']\n",
    "labelencoder = LabelEncoder()\n",
    "y = labelencoder.fit_transform(y)"
   ]
  },
  {
   "cell_type": "markdown",
   "metadata": {},
   "source": [
    "### "
   ]
  },
  {
   "cell_type": "markdown",
   "metadata": {},
   "source": [
    "## Exploratory Data Analysis:\n",
    "Looking into what type of measure the attributes are."
   ]
  },
  {
   "cell_type": "code",
   "execution_count": 15,
   "metadata": {},
   "outputs": [
    {
     "data": {
      "text/html": [
       "<div>\n",
       "<style scoped>\n",
       "    .dataframe tbody tr th:only-of-type {\n",
       "        vertical-align: middle;\n",
       "    }\n",
       "\n",
       "    .dataframe tbody tr th {\n",
       "        vertical-align: top;\n",
       "    }\n",
       "\n",
       "    .dataframe thead th {\n",
       "        text-align: right;\n",
       "    }\n",
       "</style>\n",
       "<table border=\"1\" class=\"dataframe\">\n",
       "  <thead>\n",
       "    <tr style=\"text-align: right;\">\n",
       "      <th></th>\n",
       "      <th>text</th>\n",
       "      <th>author</th>\n",
       "    </tr>\n",
       "  </thead>\n",
       "  <tbody>\n",
       "    <tr>\n",
       "      <th>count</th>\n",
       "      <td>4000</td>\n",
       "      <td>4000</td>\n",
       "    </tr>\n",
       "    <tr>\n",
       "      <th>unique</th>\n",
       "      <td>3945</td>\n",
       "      <td>4</td>\n",
       "    </tr>\n",
       "    <tr>\n",
       "      <th>top</th>\n",
       "      <td>[MS. M.</td>\n",
       "      <td>Pollidori</td>\n",
       "    </tr>\n",
       "    <tr>\n",
       "      <th>freq</th>\n",
       "      <td>7</td>\n",
       "      <td>1000</td>\n",
       "    </tr>\n",
       "  </tbody>\n",
       "</table>\n",
       "</div>"
      ],
      "text/plain": [
       "           text     author\n",
       "count      4000       4000\n",
       "unique     3945          4\n",
       "top     [MS. M.  Pollidori\n",
       "freq          7       1000"
      ]
     },
     "execution_count": 15,
     "metadata": {},
     "output_type": "execute_result"
    }
   ],
   "source": [
    "df_author.describe()"
   ]
  },
  {
   "cell_type": "code",
   "execution_count": 16,
   "metadata": {},
   "outputs": [
    {
     "name": "stdout",
     "output_type": "stream",
     "text": [
      "It was indeed a paradise compared to the bleak forest, my former residence, the rain-dropping branches, and dank earth.\n",
      "Mary\n"
     ]
    },
    {
     "data": {
      "image/png": "[encoded data removed]",
      "text/plain": [
       "<Figure size 432x288 with 1 Axes>"
      ]
     },
     "metadata": {
      "needs_background": "light"
     },
     "output_type": "display_data"
    },
    {
     "name": "stdout",
     "output_type": "stream",
     "text": [
      "The play written by Polidori, which received so little commendation, was, I suppose, the Cajetan which is mentioned at an early point in the Journal.\n",
      "Byron\n"
     ]
    },
    {
     "data": {
      "image/png": "[encoded data removed]",
      "text/plain": [
       "<Figure size 432x288 with 1 Axes>"
      ]
     },
     "metadata": {
      "needs_background": "light"
     },
     "output_type": "display_data"
    },
    {
     "name": "stdout",
     "output_type": "stream",
     "text": [
      "CANCELLED FRAGMENTS OF \"PROMETHEUS UNBOUND\".\n",
      "Percy\n"
     ]
    },
    {
     "data": {
      "image/png": "[encoded data removed]",
      "text/plain": [
       "<Figure size 432x288 with 1 Axes>"
      ]
     },
     "metadata": {
      "needs_background": "light"
     },
     "output_type": "display_data"
    },
    {
     "name": "stdout",
     "output_type": "stream",
     "text": [
      "Sweet Florence[133] could another ever share       This wayward, loveless heart, it would be thine:       But checked by every tie, I may not dare       To cast a worthless offering at thy shrine,     Nor ask so dear a breast to feel one pang for mine.\n",
      "Pollidori\n"
     ]
    },
    {
     "data": {
      "image/png": "[encoded data removed]",
      "text/plain": [
       "<Figure size 432x288 with 1 Axes>"
      ]
     },
     "metadata": {
      "needs_background": "light"
     },
     "output_type": "display_data"
    }
   ],
   "source": [
    "# Importing necessary libraries\n",
    "from PIL import Image\n",
    "from wordcloud import WordCloud\n",
    "import matplotlib.pyplot as plt\n",
    "X = df_author['text']\n",
    "\n",
    "wordcloud1 = WordCloud().generate(X[0]) \n",
    "wordcloud2 = WordCloud().generate(X[1]) \n",
    "wordcloud3 = WordCloud().generate(X[3]) \n",
    "wordcloud4 = WordCloud().generate(X[6]) \n",
    "\n",
    "\n",
    "print(X[0])\n",
    "print(df_author['author'][0])\n",
    "plt.imshow(wordcloud1, interpolation='bilinear')\n",
    "plt.show()\n",
    "\n",
    "print(X[1])\n",
    "print(df_author['author'][1])\n",
    "plt.imshow(wordcloud2, interpolation='bilinear')\n",
    "plt.show()\n",
    "\n",
    "print(X[3])\n",
    "print(df_author['author'][3])\n",
    "plt.imshow(wordcloud3, interpolation='bilinear')\n",
    "plt.show()\n",
    "\n",
    "print(X[6])\n",
    "print(df_author['author'][6])\n",
    "plt.imshow(wordcloud4, interpolation='bilinear')\n",
    "plt.show()"
   ]
  },
  {
   "cell_type": "markdown",
   "metadata": {},
   "source": [
    "### Word Tokenization\n",
    "\n",
    "Here, I have taken a text from Percy's book and tried to tokenize."
   ]
  },
  {
   "cell_type": "code",
   "execution_count": 17,
   "metadata": {},
   "outputs": [
    {
     "name": "stdout",
     "output_type": "stream",
     "text": [
      "['79 rightly Wise manuscript; nightly Hunt manuscript, editions 1832, 1839.']\n"
     ]
    }
   ],
   "source": [
    "from nltk.tokenize import sent_tokenize\n",
    "text='79 rightly Wise manuscript; nightly Hunt manuscript, editions 1832, 1839.'\n",
    "tokenized_text=sent_tokenize(text)\n",
    "print(tokenized_text)"
   ]
  },
  {
   "cell_type": "markdown",
   "metadata": {},
   "source": [
    "### Frequency Distribution"
   ]
  },
  {
   "cell_type": "code",
   "execution_count": 18,
   "metadata": {},
   "outputs": [
    {
     "name": "stdout",
     "output_type": "stream",
     "text": [
      "['79', 'rightly', 'Wise', 'manuscript', ';', 'nightly', 'Hunt', 'manuscript', ',', 'editions', '1832', ',', '1839', '.']\n"
     ]
    }
   ],
   "source": [
    "from nltk.tokenize import word_tokenize\n",
    "tokenized_word=word_tokenize(text)\n",
    "print(tokenized_word)"
   ]
  },
  {
   "cell_type": "code",
   "execution_count": 19,
   "metadata": {},
   "outputs": [
    {
     "name": "stdout",
     "output_type": "stream",
     "text": [
      "<FreqDist with 12 samples and 14 outcomes>\n"
     ]
    }
   ],
   "source": [
    "from nltk.probability import FreqDist\n",
    "fdist = FreqDist(tokenized_word)\n",
    "print(fdist)"
   ]
  },
  {
   "cell_type": "code",
   "execution_count": 20,
   "metadata": {},
   "outputs": [
    {
     "data": {
      "text/plain": [
       "[('manuscript', 2), (',', 2)]"
      ]
     },
     "execution_count": 20,
     "metadata": {},
     "output_type": "execute_result"
    }
   ],
   "source": [
    "fdist.most_common(2)"
   ]
  },
  {
   "cell_type": "code",
   "execution_count": 21,
   "metadata": {},
   "outputs": [
    {
     "data": {
      "image/png": "[encoded data removed]",
      "text/plain": [
       "<Figure size 432x288 with 1 Axes>"
      ]
     },
     "metadata": {
      "needs_background": "light"
     },
     "output_type": "display_data"
    }
   ],
   "source": [
    "fdist.plot(30,cumulative=False)\n",
    "plt.show()"
   ]
  },
  {
   "cell_type": "markdown",
   "metadata": {},
   "source": [
    "#### Note:\n",
    "- word_count: number of words in the average sentence\n",
    "- sentence_length: number of word characters in each sentence\n",
    "- text_length: pure number of characters, including spaces and punctuation\n",
    "- punctuation_per_char: how often an author uses punctuation marks per character written\n",
    "- unique_ration: ratio of unique words to total words\n",
    "- avg_word_length: how many characters is in the average word written"
   ]
  },
  {
   "cell_type": "code",
   "execution_count": 22,
   "metadata": {},
   "outputs": [],
   "source": [
    "import string\n",
    "import nltk\n",
    "no_punct_translator=str.maketrans('','',string.punctuation)\n",
    "\n",
    "df_author['words'] = df_author['text'].apply(lambda t: nltk.word_tokenize(t.translate(no_punct_translator).lower()))"
   ]
  },
  {
   "cell_type": "code",
   "execution_count": 23,
   "metadata": {},
   "outputs": [],
   "source": [
    "df_author['word_count'] = df_author['words'].apply(lambda words: len(words))\n",
    "\n",
    "# for normalization, how many characters per sentence w/o punctuation\n",
    "df_author['sentence_length'] = df_author['words'].apply(lambda w: sum(map(len, w)))\n",
    "\n",
    "# for future calculations, let's keep around the full text length, including punctuation\n",
    "df_author['text_length'] = df_author['text'].apply(lambda t: len(t))\n",
    "\n",
    "df_author['punctuation_count'] = df_author['text'].apply(lambda t: len(list(filter(lambda c: c in t, string.punctuation))))\n",
    "\n",
    "df_author['punctuation_per_char'] = df_author['punctuation_count'] / df_author['text_length']"
   ]
  },
  {
   "cell_type": "code",
   "execution_count": 24,
   "metadata": {},
   "outputs": [
    {
     "data": {
      "text/html": [
       "<div>\n",
       "<style scoped>\n",
       "    .dataframe tbody tr th:only-of-type {\n",
       "        vertical-align: middle;\n",
       "    }\n",
       "\n",
       "    .dataframe tbody tr th {\n",
       "        vertical-align: top;\n",
       "    }\n",
       "\n",
       "    .dataframe thead th {\n",
       "        text-align: right;\n",
       "    }\n",
       "</style>\n",
       "<table border=\"1\" class=\"dataframe\">\n",
       "  <thead>\n",
       "    <tr style=\"text-align: right;\">\n",
       "      <th></th>\n",
       "      <th>count</th>\n",
       "      <th>mean</th>\n",
       "      <th>std</th>\n",
       "      <th>min</th>\n",
       "      <th>25%</th>\n",
       "      <th>50%</th>\n",
       "      <th>75%</th>\n",
       "      <th>max</th>\n",
       "    </tr>\n",
       "    <tr>\n",
       "      <th>author</th>\n",
       "      <th></th>\n",
       "      <th></th>\n",
       "      <th></th>\n",
       "      <th></th>\n",
       "      <th></th>\n",
       "      <th></th>\n",
       "      <th></th>\n",
       "      <th></th>\n",
       "    </tr>\n",
       "  </thead>\n",
       "  <tbody>\n",
       "    <tr>\n",
       "      <th>Byron</th>\n",
       "      <td>1000.0</td>\n",
       "      <td>0.921710</td>\n",
       "      <td>0.086055</td>\n",
       "      <td>0.533333</td>\n",
       "      <td>0.863636</td>\n",
       "      <td>0.937500</td>\n",
       "      <td>1.0</td>\n",
       "      <td>1.0</td>\n",
       "    </tr>\n",
       "    <tr>\n",
       "      <th>Mary</th>\n",
       "      <td>1000.0</td>\n",
       "      <td>0.895787</td>\n",
       "      <td>0.086852</td>\n",
       "      <td>0.594059</td>\n",
       "      <td>0.833333</td>\n",
       "      <td>0.903226</td>\n",
       "      <td>1.0</td>\n",
       "      <td>1.0</td>\n",
       "    </tr>\n",
       "    <tr>\n",
       "      <th>Percy</th>\n",
       "      <td>1000.0</td>\n",
       "      <td>0.923932</td>\n",
       "      <td>0.091351</td>\n",
       "      <td>0.391304</td>\n",
       "      <td>0.857143</td>\n",
       "      <td>0.958333</td>\n",
       "      <td>1.0</td>\n",
       "      <td>1.0</td>\n",
       "    </tr>\n",
       "    <tr>\n",
       "      <th>Pollidori</th>\n",
       "      <td>1000.0</td>\n",
       "      <td>0.929163</td>\n",
       "      <td>0.088301</td>\n",
       "      <td>0.470588</td>\n",
       "      <td>0.870617</td>\n",
       "      <td>0.973666</td>\n",
       "      <td>1.0</td>\n",
       "      <td>1.0</td>\n",
       "    </tr>\n",
       "  </tbody>\n",
       "</table>\n",
       "</div>"
      ],
      "text/plain": [
       "            count      mean       std       min       25%       50%  75%  max\n",
       "author                                                                       \n",
       "Byron      1000.0  0.921710  0.086055  0.533333  0.863636  0.937500  1.0  1.0\n",
       "Mary       1000.0  0.895787  0.086852  0.594059  0.833333  0.903226  1.0  1.0\n",
       "Percy      1000.0  0.923932  0.091351  0.391304  0.857143  0.958333  1.0  1.0\n",
       "Pollidori  1000.0  0.929163  0.088301  0.470588  0.870617  0.973666  1.0  1.0"
      ]
     },
     "execution_count": 24,
     "metadata": {},
     "output_type": "execute_result"
    }
   ],
   "source": [
    "def unique_words(words):\n",
    "    word_count = len(words)\n",
    "    unique_count = len(set(words)) # creating a set from the list 'words' removes duplicates\n",
    "    return unique_count / word_count\n",
    "\n",
    "df_author['unique_ratio'] = df_author['words'].apply(unique_words)\n",
    "df_author.groupby(['author'])['unique_ratio'].describe()"
   ]
  },
  {
   "cell_type": "code",
   "execution_count": 25,
   "metadata": {},
   "outputs": [
    {
     "data": {
      "text/html": [
       "<div>\n",
       "<style scoped>\n",
       "    .dataframe tbody tr th:only-of-type {\n",
       "        vertical-align: middle;\n",
       "    }\n",
       "\n",
       "    .dataframe tbody tr th {\n",
       "        vertical-align: top;\n",
       "    }\n",
       "\n",
       "    .dataframe thead th {\n",
       "        text-align: right;\n",
       "    }\n",
       "</style>\n",
       "<table border=\"1\" class=\"dataframe\">\n",
       "  <thead>\n",
       "    <tr style=\"text-align: right;\">\n",
       "      <th></th>\n",
       "      <th>count</th>\n",
       "      <th>mean</th>\n",
       "      <th>std</th>\n",
       "      <th>min</th>\n",
       "      <th>25%</th>\n",
       "      <th>50%</th>\n",
       "      <th>75%</th>\n",
       "      <th>max</th>\n",
       "    </tr>\n",
       "    <tr>\n",
       "      <th>author</th>\n",
       "      <th></th>\n",
       "      <th></th>\n",
       "      <th></th>\n",
       "      <th></th>\n",
       "      <th></th>\n",
       "      <th></th>\n",
       "      <th></th>\n",
       "      <th></th>\n",
       "    </tr>\n",
       "  </thead>\n",
       "  <tbody>\n",
       "    <tr>\n",
       "      <th>Byron</th>\n",
       "      <td>1000.0</td>\n",
       "      <td>4.610289</td>\n",
       "      <td>0.806573</td>\n",
       "      <td>2.625000</td>\n",
       "      <td>4.142857</td>\n",
       "      <td>4.500000</td>\n",
       "      <td>4.968862</td>\n",
       "      <td>12.0</td>\n",
       "    </tr>\n",
       "    <tr>\n",
       "      <th>Mary</th>\n",
       "      <td>1000.0</td>\n",
       "      <td>4.489351</td>\n",
       "      <td>0.694394</td>\n",
       "      <td>2.000000</td>\n",
       "      <td>4.130084</td>\n",
       "      <td>4.476190</td>\n",
       "      <td>4.818554</td>\n",
       "      <td>12.0</td>\n",
       "    </tr>\n",
       "    <tr>\n",
       "      <th>Percy</th>\n",
       "      <td>1000.0</td>\n",
       "      <td>4.463196</td>\n",
       "      <td>1.049968</td>\n",
       "      <td>1.333333</td>\n",
       "      <td>4.000000</td>\n",
       "      <td>4.386882</td>\n",
       "      <td>4.843117</td>\n",
       "      <td>12.0</td>\n",
       "    </tr>\n",
       "    <tr>\n",
       "      <th>Pollidori</th>\n",
       "      <td>1000.0</td>\n",
       "      <td>4.448612</td>\n",
       "      <td>1.024939</td>\n",
       "      <td>1.000000</td>\n",
       "      <td>4.000000</td>\n",
       "      <td>4.464103</td>\n",
       "      <td>4.857143</td>\n",
       "      <td>9.0</td>\n",
       "    </tr>\n",
       "  </tbody>\n",
       "</table>\n",
       "</div>"
      ],
      "text/plain": [
       "            count      mean       std       min       25%       50%       75%  \\\n",
       "author                                                                          \n",
       "Byron      1000.0  4.610289  0.806573  2.625000  4.142857  4.500000  4.968862   \n",
       "Mary       1000.0  4.489351  0.694394  2.000000  4.130084  4.476190  4.818554   \n",
       "Percy      1000.0  4.463196  1.049968  1.333333  4.000000  4.386882  4.843117   \n",
       "Pollidori  1000.0  4.448612  1.024939  1.000000  4.000000  4.464103  4.857143   \n",
       "\n",
       "            max  \n",
       "author           \n",
       "Byron      12.0  \n",
       "Mary       12.0  \n",
       "Percy      12.0  \n",
       "Pollidori   9.0  "
      ]
     },
     "execution_count": 25,
     "metadata": {},
     "output_type": "execute_result"
    }
   ],
   "source": [
    "avg_length = lambda words: sum(map(len, words)) / len(words)\n",
    "\n",
    "df_author['avg_word_length'] = df_author['words'].apply(avg_length)\n",
    "df_author.groupby(['author'])['avg_word_length'].describe()"
   ]
  },
  {
   "cell_type": "code",
   "execution_count": 26,
   "metadata": {},
   "outputs": [
    {
     "name": "stdout",
     "output_type": "stream",
     "text": [
      "{'neg': 0.0, 'neu': 0.7, 'pos': 0.3, 'compound': 0.4588}\n",
      "{'neg': 0.381, 'neu': 0.619, 'pos': 0.0, 'compound': -0.5719}\n"
     ]
    }
   ],
   "source": [
    "from nltk.sentiment.vader import SentimentIntensityAnalyzer\n",
    "sid = SentimentIntensityAnalyzer()\n",
    "\n",
    "# Let's test how this works\n",
    "print(sid.polarity_scores('Vader text analysis is my favorite thing ever'))\n",
    "print(sid.polarity_scores('I hate vader and everything it stands for'))"
   ]
  },
  {
   "cell_type": "code",
   "execution_count": 27,
   "metadata": {},
   "outputs": [
    {
     "data": {
      "text/html": [
       "<div>\n",
       "<style scoped>\n",
       "    .dataframe tbody tr th:only-of-type {\n",
       "        vertical-align: middle;\n",
       "    }\n",
       "\n",
       "    .dataframe tbody tr th {\n",
       "        vertical-align: top;\n",
       "    }\n",
       "\n",
       "    .dataframe thead th {\n",
       "        text-align: right;\n",
       "    }\n",
       "</style>\n",
       "<table border=\"1\" class=\"dataframe\">\n",
       "  <thead>\n",
       "    <tr style=\"text-align: right;\">\n",
       "      <th></th>\n",
       "      <th>count</th>\n",
       "      <th>mean</th>\n",
       "      <th>std</th>\n",
       "      <th>min</th>\n",
       "      <th>25%</th>\n",
       "      <th>50%</th>\n",
       "      <th>75%</th>\n",
       "      <th>max</th>\n",
       "    </tr>\n",
       "    <tr>\n",
       "      <th>author</th>\n",
       "      <th></th>\n",
       "      <th></th>\n",
       "      <th></th>\n",
       "      <th></th>\n",
       "      <th></th>\n",
       "      <th></th>\n",
       "      <th></th>\n",
       "      <th></th>\n",
       "    </tr>\n",
       "  </thead>\n",
       "  <tbody>\n",
       "    <tr>\n",
       "      <th>Byron</th>\n",
       "      <td>1000.0</td>\n",
       "      <td>0.071554</td>\n",
       "      <td>0.380915</td>\n",
       "      <td>-0.9569</td>\n",
       "      <td>0.0000</td>\n",
       "      <td>0.0</td>\n",
       "      <td>0.3388</td>\n",
       "      <td>0.9631</td>\n",
       "    </tr>\n",
       "    <tr>\n",
       "      <th>Mary</th>\n",
       "      <td>1000.0</td>\n",
       "      <td>0.051154</td>\n",
       "      <td>0.519767</td>\n",
       "      <td>-0.9773</td>\n",
       "      <td>-0.3612</td>\n",
       "      <td>0.0</td>\n",
       "      <td>0.4588</td>\n",
       "      <td>0.9848</td>\n",
       "    </tr>\n",
       "    <tr>\n",
       "      <th>Percy</th>\n",
       "      <td>1000.0</td>\n",
       "      <td>0.037021</td>\n",
       "      <td>0.456475</td>\n",
       "      <td>-0.9772</td>\n",
       "      <td>-0.1779</td>\n",
       "      <td>0.0</td>\n",
       "      <td>0.3612</td>\n",
       "      <td>0.9716</td>\n",
       "    </tr>\n",
       "    <tr>\n",
       "      <th>Pollidori</th>\n",
       "      <td>1000.0</td>\n",
       "      <td>0.058550</td>\n",
       "      <td>0.404957</td>\n",
       "      <td>-0.9810</td>\n",
       "      <td>0.0000</td>\n",
       "      <td>0.0</td>\n",
       "      <td>0.2732</td>\n",
       "      <td>0.9867</td>\n",
       "    </tr>\n",
       "  </tbody>\n",
       "</table>\n",
       "</div>"
      ],
      "text/plain": [
       "            count      mean       std     min     25%  50%     75%     max\n",
       "author                                                                    \n",
       "Byron      1000.0  0.071554  0.380915 -0.9569  0.0000  0.0  0.3388  0.9631\n",
       "Mary       1000.0  0.051154  0.519767 -0.9773 -0.3612  0.0  0.4588  0.9848\n",
       "Percy      1000.0  0.037021  0.456475 -0.9772 -0.1779  0.0  0.3612  0.9716\n",
       "Pollidori  1000.0  0.058550  0.404957 -0.9810  0.0000  0.0  0.2732  0.9867"
      ]
     },
     "execution_count": 27,
     "metadata": {},
     "output_type": "execute_result"
    }
   ],
   "source": [
    "df_author['sentiment'] = df_author['text'].apply(lambda t: sid.polarity_scores(t)['compound'])\n",
    "df_author.groupby('author')['sentiment'].describe()"
   ]
  },
  {
   "cell_type": "code",
   "execution_count": 28,
   "metadata": {},
   "outputs": [
    {
     "data": {
      "text/plain": [
       "<AxesSubplot:xlabel='author', ylabel='avg_word_length'>"
      ]
     },
     "execution_count": 28,
     "metadata": {},
     "output_type": "execute_result"
    },
    {
     "data": {
      "image/png": "[encoded data removed]",
      "text/plain": [
       "<Figure size 432x288 with 1 Axes>"
      ]
     },
     "metadata": {
      "needs_background": "light"
     },
     "output_type": "display_data"
    }
   ],
   "source": [
    "#boxplot for word length\n",
    "sns.boxplot(x = \"author\", y = \"avg_word_length\", data=df_author, color = \"red\")"
   ]
  },
  {
   "cell_type": "code",
   "execution_count": 29,
   "metadata": {},
   "outputs": [
    {
     "data": {
      "image/png": "[encoded data removed]",
      "text/plain": [
       "<Figure size 432x288 with 1 Axes>"
      ]
     },
     "metadata": {
      "needs_background": "light"
     },
     "output_type": "display_data"
    }
   ],
   "source": [
    "sns.boxplot(x=\"author\", y=\"sentiment\", data=df_author);"
   ]
  },
  {
   "cell_type": "code",
   "execution_count": 30,
   "metadata": {},
   "outputs": [
    {
     "data": {
      "text/plain": [
       "<AxesSubplot:xlabel='author', ylabel='word_count'>"
      ]
     },
     "execution_count": 30,
     "metadata": {},
     "output_type": "execute_result"
    },
    {
     "data": {
      "image/png": "[encoded data removed]",
      "text/plain": [
       "<Figure size 432x288 with 1 Axes>"
      ]
     },
     "metadata": {
      "needs_background": "light"
     },
     "output_type": "display_data"
    }
   ],
   "source": [
    "#Scatterplot for Wordcount\n",
    "sns.scatterplot(data=df_author, x=\"author\", y=\"word_count\")"
   ]
  },
  {
   "cell_type": "markdown",
   "metadata": {},
   "source": [
    "### "
   ]
  },
  {
   "cell_type": "markdown",
   "metadata": {},
   "source": [
    "## Mining and Analytics:\n",
    "\n",
    "The following has data mining models to determine the authorship of Frankenstein"
   ]
  },
  {
   "cell_type": "markdown",
   "metadata": {},
   "source": [
    "#### Partioning the dataset as 80% for Training and 20% for Validation"
   ]
  },
  {
   "cell_type": "code",
   "execution_count": 32,
   "metadata": {},
   "outputs": [],
   "source": [
    "# Importing necessary libraries\n",
    "from sklearn.feature_extraction.text import CountVectorizer\n",
    "from sklearn.model_selection import train_test_split\n",
    "\n",
    "X_train, X_test, y_train, y_test = train_test_split(X, y,test_size=0.2, random_state=1234)\n",
    "\n",
    "bow_transformer=CountVectorizer(analyzer=text_process).fit(X_train)\n",
    "\n",
    "text_bow_train=bow_transformer.transform(X_train)\n",
    "\n",
    "text_bow_test=bow_transformer.transform(X_test)"
   ]
  },
  {
   "cell_type": "markdown",
   "metadata": {},
   "source": [
    "## DataMining Model 1: Multinomial Naive Bayes - Classifier"
   ]
  },
  {
   "cell_type": "code",
   "execution_count": 33,
   "metadata": {},
   "outputs": [],
   "source": [
    "# Importing necessary libraries\n",
    "from sklearn.naive_bayes import MultinomialNB\n",
    "\n",
    "model = MultinomialNB()\n",
    "\n",
    "model = model.fit(text_bow_train, y_train)"
   ]
  },
  {
   "cell_type": "code",
   "execution_count": 34,
   "metadata": {},
   "outputs": [
    {
     "data": {
      "text/plain": [
       "0.92375"
      ]
     },
     "execution_count": 34,
     "metadata": {},
     "output_type": "execute_result"
    }
   ],
   "source": [
    "model.score(text_bow_train, y_train)"
   ]
  },
  {
   "cell_type": "code",
   "execution_count": 35,
   "metadata": {},
   "outputs": [
    {
     "data": {
      "text/plain": [
       "0.68375"
      ]
     },
     "execution_count": 35,
     "metadata": {},
     "output_type": "execute_result"
    }
   ],
   "source": [
    "model.score(text_bow_test, y_test)"
   ]
  },
  {
   "cell_type": "code",
   "execution_count": 36,
   "metadata": {},
   "outputs": [
    {
     "name": "stdout",
     "output_type": "stream",
     "text": [
      "              precision    recall  f1-score   support\n",
      "\n",
      "   pollidori       0.71      0.74      0.73       188\n",
      "       byron       0.66      0.79      0.72       225\n",
      "       percy       0.70      0.67      0.69       200\n",
      "        mary       0.67      0.51      0.58       187\n",
      "\n",
      "    accuracy                           0.68       800\n",
      "   macro avg       0.69      0.68      0.68       800\n",
      "weighted avg       0.68      0.68      0.68       800\n",
      "\n"
     ]
    }
   ],
   "source": [
    "from sklearn.metrics import classification_report\n",
    " \n",
    "# getting the predictions of the Validation Set...\n",
    "predictions = model.predict(text_bow_test)\n",
    "# getting the Precision, Recall, F1-Score\n",
    "print(classification_report(y_test,predictions,target_names=author_names))"
   ]
  },
  {
   "cell_type": "markdown",
   "metadata": {},
   "source": [
    "### Confusion Matrix"
   ]
  },
  {
   "cell_type": "code",
   "execution_count": 37,
   "metadata": {},
   "outputs": [
    {
     "name": "stdout",
     "output_type": "stream",
     "text": [
      "Normalized confusion matrix\n",
      "[[0.7393617  0.14361702 0.03191489 0.08510638]\n",
      " [0.08444444 0.79111111 0.09333333 0.03111111]\n",
      " [0.065      0.14       0.67       0.125     ]\n",
      " [0.12834225 0.19786096 0.16042781 0.51336898]]\n"
     ]
    },
    {
     "data": {
      "image/png": "[encoded data removed]",
      "text/plain": [
       "<Figure size 432x288 with 2 Axes>"
      ]
     },
     "metadata": {
      "needs_background": "light"
     },
     "output_type": "display_data"
    }
   ],
   "source": [
    "from sklearn.metrics import confusion_matrix\n",
    "import numpy as np\n",
    "import itertools\n",
    "import matplotlib.pyplot as plt\n",
    "# Defining a module for Confusion Matrix...\n",
    "def plot_confusion_matrix(cm, classes,\n",
    "                          normalize=False,\n",
    "                          title='Confusion matrix',\n",
    "                          cmap=plt.cm.Blues):\n",
    "    \"\"\"\n",
    "    This function prints and plots the confusion matrix.\n",
    "    Normalization can be applied by setting `normalize=True`.\n",
    "    \"\"\"\n",
    "    if normalize:\n",
    "        cm = cm.astype('float') / cm.sum(axis=1)[:, np.newaxis]\n",
    "        print(\"Normalized confusion matrix\")\n",
    "    else:\n",
    "        print('Confusion matrix, without normalization')\n",
    "    print(cm)\n",
    "    plt.imshow(cm, interpolation='nearest', cmap=cmap)\n",
    "    plt.title(title)\n",
    "    plt.colorbar()\n",
    "    tick_marks = np.arange(len(classes))\n",
    "    plt.xticks(tick_marks, classes, rotation=45)\n",
    "    plt.yticks(tick_marks, classes)\n",
    "    fmt = '.2f' if normalize else 'd'\n",
    "    thresh = cm.max() / 2.\n",
    "    for i, j in itertools.product(range(cm.shape[0])\n",
    "                                  , range(cm.shape[1])):\n",
    "        plt.text(j, i, format(cm[i, j], fmt),\n",
    "                 horizontalalignment=\"center\",\n",
    "                 color=\"white\" if cm[i, j] > thresh else \"black\")\n",
    "    plt.tight_layout()\n",
    "    plt.ylabel('True label')\n",
    "    plt.xlabel('Predicted label')\n",
    "cm = confusion_matrix(y_test,predictions)\n",
    "plt.figure()\n",
    "plot_confusion_matrix(cm, classes=[0,1,2,3], normalize=True,\n",
    "                      title='Confusion Matrix')"
   ]
  },
  {
   "cell_type": "markdown",
   "metadata": {},
   "source": [
    "### From confusion matrix, we can note that author Lord Byron has a predicted score of 79%."
   ]
  },
  {
   "cell_type": "markdown",
   "metadata": {},
   "source": [
    "### "
   ]
  },
  {
   "cell_type": "markdown",
   "metadata": {},
   "source": [
    "## DataMining Model 2: TensorFlow"
   ]
  },
  {
   "cell_type": "code",
   "execution_count": 38,
   "metadata": {},
   "outputs": [],
   "source": [
    "feature_columns = ['author', 'word_count', 'text_length', 'punctuation_per_char', 'unique_ratio', 'avg_word_length', 'sentiment']\n",
    "df_features = df_author[feature_columns]"
   ]
  },
  {
   "cell_type": "markdown",
   "metadata": {},
   "source": [
    "Using Nltk for stop words:"
   ]
  },
  {
   "cell_type": "code",
   "execution_count": 39,
   "metadata": {},
   "outputs": [
    {
     "data": {
      "text/plain": [
       "(46383, 2)"
      ]
     },
     "execution_count": 39,
     "metadata": {},
     "output_type": "execute_result"
    }
   ],
   "source": [
    "df_words = pd.concat([pd.DataFrame(data={'author': [row['author'] for _ in row['words']], 'word': row['words']})\n",
    "           for _, row in df_author.iterrows()], ignore_index=True)\n",
    "\n",
    "df_words = df_words[~df_words['word'].isin(nltk.corpus.stopwords.words('english'))]\n",
    "\n",
    "df_words.shape"
   ]
  },
  {
   "cell_type": "code",
   "execution_count": 40,
   "metadata": {},
   "outputs": [],
   "source": [
    "df_train=df_features.sample(frac=0.8,random_state=1)\n",
    "df_dev=df_features.drop(df_train.index)"
   ]
  },
  {
   "cell_type": "code",
   "execution_count": 41,
   "metadata": {},
   "outputs": [
    {
     "data": {
      "text/html": [
       "<div>\n",
       "<style scoped>\n",
       "    .dataframe tbody tr th:only-of-type {\n",
       "        vertical-align: middle;\n",
       "    }\n",
       "\n",
       "    .dataframe tbody tr th {\n",
       "        vertical-align: top;\n",
       "    }\n",
       "\n",
       "    .dataframe thead th {\n",
       "        text-align: right;\n",
       "    }\n",
       "</style>\n",
       "<table border=\"1\" class=\"dataframe\">\n",
       "  <thead>\n",
       "    <tr style=\"text-align: right;\">\n",
       "      <th></th>\n",
       "      <th>author</th>\n",
       "      <th>word_count</th>\n",
       "      <th>text_length</th>\n",
       "      <th>punctuation_per_char</th>\n",
       "      <th>unique_ratio</th>\n",
       "      <th>avg_word_length</th>\n",
       "      <th>sentiment</th>\n",
       "    </tr>\n",
       "  </thead>\n",
       "  <tbody>\n",
       "    <tr>\n",
       "      <th>200</th>\n",
       "      <td>Pollidori</td>\n",
       "      <td>25</td>\n",
       "      <td>150</td>\n",
       "      <td>0.026667</td>\n",
       "      <td>0.880000</td>\n",
       "      <td>4.360000</td>\n",
       "      <td>0.0000</td>\n",
       "    </tr>\n",
       "    <tr>\n",
       "      <th>1078</th>\n",
       "      <td>Percy</td>\n",
       "      <td>18</td>\n",
       "      <td>100</td>\n",
       "      <td>0.030000</td>\n",
       "      <td>0.888889</td>\n",
       "      <td>4.444444</td>\n",
       "      <td>-0.3400</td>\n",
       "    </tr>\n",
       "    <tr>\n",
       "      <th>610</th>\n",
       "      <td>Mary</td>\n",
       "      <td>46</td>\n",
       "      <td>276</td>\n",
       "      <td>0.014493</td>\n",
       "      <td>0.913043</td>\n",
       "      <td>4.847826</td>\n",
       "      <td>-0.2023</td>\n",
       "    </tr>\n",
       "    <tr>\n",
       "      <th>2159</th>\n",
       "      <td>Pollidori</td>\n",
       "      <td>7</td>\n",
       "      <td>33</td>\n",
       "      <td>0.060606</td>\n",
       "      <td>1.000000</td>\n",
       "      <td>3.571429</td>\n",
       "      <td>-0.2500</td>\n",
       "    </tr>\n",
       "    <tr>\n",
       "      <th>1169</th>\n",
       "      <td>Pollidori</td>\n",
       "      <td>6</td>\n",
       "      <td>32</td>\n",
       "      <td>0.125000</td>\n",
       "      <td>1.000000</td>\n",
       "      <td>2.833333</td>\n",
       "      <td>0.0000</td>\n",
       "    </tr>\n",
       "  </tbody>\n",
       "</table>\n",
       "</div>"
      ],
      "text/plain": [
       "         author  word_count  text_length  punctuation_per_char  unique_ratio  \\\n",
       "200   Pollidori          25          150              0.026667      0.880000   \n",
       "1078      Percy          18          100              0.030000      0.888889   \n",
       "610        Mary          46          276              0.014493      0.913043   \n",
       "2159  Pollidori           7           33              0.060606      1.000000   \n",
       "1169  Pollidori           6           32              0.125000      1.000000   \n",
       "\n",
       "      avg_word_length  sentiment  \n",
       "200          4.360000     0.0000  \n",
       "1078         4.444444    -0.3400  \n",
       "610          4.847826    -0.2023  \n",
       "2159         3.571429    -0.2500  \n",
       "1169         2.833333     0.0000  "
      ]
     },
     "execution_count": 41,
     "metadata": {},
     "output_type": "execute_result"
    }
   ],
   "source": [
    "df_train.head()"
   ]
  },
  {
   "cell_type": "code",
   "execution_count": 42,
   "metadata": {},
   "outputs": [],
   "source": [
    "import tensorflow as tf\n",
    "\n",
    "feature_word_count = tf.feature_column.numeric_column(\"word_count\")\n",
    "feature_text_length = tf.feature_column.numeric_column(\"text_length\")\n",
    "feature_punctuation_per_char = tf.feature_column.numeric_column(\"punctuation_per_char\")\n",
    "feature_unique_ratio = tf.feature_column.numeric_column(\"unique_ratio\")\n",
    "feature_avg_word_length = tf.feature_column.numeric_column(\"avg_word_length\")\n",
    "feature_sentiment = tf.feature_column.numeric_column(\"sentiment\")\n",
    "\n",
    "base_columns = [\n",
    "    feature_word_count, feature_text_length, feature_punctuation_per_char, feature_unique_ratio, feature_avg_word_length, feature_sentiment\n",
    "]"
   ]
  },
  {
   "cell_type": "markdown",
   "metadata": {},
   "source": [
    "A training function for estimators and a simple linear classifier:"
   ]
  },
  {
   "cell_type": "code",
   "execution_count": 43,
   "metadata": {},
   "outputs": [
    {
     "name": "stdout",
     "output_type": "stream",
     "text": [
      "WARNING:tensorflow:From C:\\Users\\aishw\\anaconda3\\lib\\site-packages\\tensorflow\\python\\util\\lazy_loader.py:63: The name tf.estimator.inputs is deprecated. Please use tf.compat.v1.estimator.inputs instead.\n",
      "\n",
      "INFO:tensorflow:Using default config.\n",
      "INFO:tensorflow:Using config: {'_model_dir': 'C:\\\\Users\\\\aishw\\\\AppData\\\\Local\\\\Temp\\\\tmphps7axw8', '_tf_random_seed': None, '_save_summary_steps': 100, '_save_checkpoints_steps': None, '_save_checkpoints_secs': 600, '_session_config': allow_soft_placement: true\n",
      "graph_options {\n",
      "  rewrite_options {\n",
      "    meta_optimizer_iterations: ONE\n",
      "  }\n",
      "}\n",
      ", '_keep_checkpoint_max': 5, '_keep_checkpoint_every_n_hours': 10000, '_log_step_count_steps': 100, '_train_distribute': None, '_device_fn': None, '_protocol': None, '_eval_distribute': None, '_experimental_distribute': None, '_experimental_max_worker_delay_secs': None, '_session_creation_timeout_secs': 7200, '_checkpoint_save_graph_def': True, '_service': None, '_cluster_spec': ClusterSpec({}), '_task_type': 'worker', '_task_id': 0, '_global_id_in_cluster': 0, '_master': '', '_evaluation_master': '', '_is_chief': True, '_num_ps_replicas': 0, '_num_worker_replicas': 1}\n"
     ]
    }
   ],
   "source": [
    "import tempfile\n",
    "\n",
    "model_dir = tempfile.mkdtemp()\n",
    "\n",
    "labels_train = df_train['author']\n",
    "\n",
    "train_fn = tf.compat.v1.estimator.inputs.pandas_input_fn(\n",
    "    x=df_train,\n",
    "    y=labels_train,\n",
    "    batch_size=100,\n",
    "    num_epochs=None,\n",
    "    shuffle=True, \n",
    "    num_threads=5)\n",
    "\n",
    "linear_model = tf.estimator.LinearClassifier(\n",
    "    model_dir=model_dir, \n",
    "    feature_columns=base_columns,\n",
    "    n_classes=len(author_names),\n",
    "    label_vocabulary=author_names)"
   ]
  },
  {
   "cell_type": "markdown",
   "metadata": {},
   "source": [
    "#### Training the model: While re-running the code for train model I encountered error however I got the accuracy rate when I initially ran. Apologies for inconvenience\n",
    "\n",
    "Code:\n",
    "\n",
    "train_steps = 5000\n",
    "\n",
    "linear_model.train(input_fn=train_fn, steps=train_steps)\n",
    "\n",
    "dev_test_fn = tf.estimator.inputs.pandas_input_fn(\n",
    "\n",
    "    x=df_dev,\n",
    "    \n",
    "    y=df_dev['author'],\n",
    "    \n",
    "    batch_size=100,\n",
    "    \n",
    "    num_epochs=1, \n",
    "    \n",
    "    shuffle=False, \n",
    "    \n",
    "    num_threads=5)\n",
    "\n",
    "linear_model.evaluate(input_fn=dev_test_fn)[\"accuracy\"]"
   ]
  },
  {
   "cell_type": "markdown",
   "metadata": {},
   "source": [
    "### From the tensorflow model, the accuracy is 36% however the authorship cannot be determined from it."
   ]
  },
  {
   "cell_type": "markdown",
   "metadata": {},
   "source": [
    "### "
   ]
  },
  {
   "cell_type": "markdown",
   "metadata": {},
   "source": [
    "## DataMining Model 3: Logistic Regression"
   ]
  },
  {
   "cell_type": "code",
   "execution_count": 44,
   "metadata": {},
   "outputs": [],
   "source": [
    "from sklearn.feature_extraction.text import CountVectorizer,TfidfVectorizer,TfidfTransformer\n",
    "from sklearn.linear_model import LogisticRegression\n",
    "from sklearn.pipeline import Pipeline"
   ]
  },
  {
   "cell_type": "code",
   "execution_count": 45,
   "metadata": {},
   "outputs": [
    {
     "name": "stdout",
     "output_type": "stream",
     "text": [
      "accuracy 0.66\n",
      "              precision    recall  f1-score   support\n",
      "\n",
      "   pollidori       0.67      0.78      0.72       188\n",
      "       byron       0.70      0.68      0.69       225\n",
      "       percy       0.66      0.57      0.61       200\n",
      "        mary       0.60      0.61      0.61       187\n",
      "\n",
      "    accuracy                           0.66       800\n",
      "   macro avg       0.66      0.66      0.66       800\n",
      "weighted avg       0.66      0.66      0.66       800\n",
      "\n"
     ]
    },
    {
     "name": "stderr",
     "output_type": "stream",
     "text": [
      "C:\\Users\\aishw\\anaconda3\\lib\\site-packages\\sklearn\\linear_model\\_logistic.py:762: ConvergenceWarning: lbfgs failed to converge (status=1):\n",
      "STOP: TOTAL NO. of ITERATIONS REACHED LIMIT.\n",
      "\n",
      "Increase the number of iterations (max_iter) or scale the data as shown in:\n",
      "    https://scikit-learn.org/stable/modules/preprocessing.html\n",
      "Please also refer to the documentation for alternative solver options:\n",
      "    https://scikit-learn.org/stable/modules/linear_model.html#logistic-regression\n",
      "  n_iter_i = _check_optimize_result(\n"
     ]
    }
   ],
   "source": [
    "model_logic=Pipeline([('vect',CountVectorizer()),\n",
    " ('tfidf',TfidfTransformer()),\n",
    " ('clf',LogisticRegression(n_jobs=1,C=1e5))])\n",
    "model_logic.fit(X_train,y_train)\n",
    "y_pred=model_logic.predict(X_test)\n",
    "print(\"accuracy %s\" % accuracy_score(y_pred,y_test))\n",
    "print(classification_report(y_test,y_pred,target_names=author_names))"
   ]
  },
  {
   "cell_type": "markdown",
   "metadata": {},
   "source": [
    "### Confusion Matrix"
   ]
  },
  {
   "cell_type": "code",
   "execution_count": 46,
   "metadata": {},
   "outputs": [
    {
     "name": "stdout",
     "output_type": "stream",
     "text": [
      "[[139  27   6  16]\n",
      " [ 19 178  21   7]\n",
      " [ 13  28 134  25]\n",
      " [ 24  37  30  96]]\n"
     ]
    }
   ],
   "source": [
    "from sklearn import metrics\n",
    "cm = metrics.confusion_matrix(y_test, predictions)\n",
    "print(cm)"
   ]
  },
  {
   "cell_type": "code",
   "execution_count": 47,
   "metadata": {},
   "outputs": [],
   "source": [
    "logisticRegr = LogisticRegression()\n"
   ]
  },
  {
   "cell_type": "code",
   "execution_count": 48,
   "metadata": {},
   "outputs": [
    {
     "data": {
      "image/png": "[encoded data removed]",
      "text/plain": [
       "<Figure size 648x648 with 2 Axes>"
      ]
     },
     "metadata": {
      "needs_background": "light"
     },
     "output_type": "display_data"
    }
   ],
   "source": [
    "plt.figure(figsize=(9,9))\n",
    "sns.heatmap(cm, annot=True, fmt=\".3f\", linewidths=.5, square = True, cmap = 'Blues_r');\n",
    "plt.ylabel('Actual label');\n",
    "plt.xlabel('Predicted label');"
   ]
  },
  {
   "cell_type": "markdown",
   "metadata": {},
   "source": [
    "### The Logistic regression model has an accuracy rate of 65%."
   ]
  },
  {
   "cell_type": "markdown",
   "metadata": {},
   "source": [
    "### Linear SVC classification on the data "
   ]
  },
  {
   "cell_type": "code",
   "execution_count": 49,
   "metadata": {},
   "outputs": [
    {
     "name": "stdout",
     "output_type": "stream",
     "text": [
      "accuracy 0.67\n",
      "              precision    recall  f1-score   support\n",
      "\n",
      "   pollidori       0.66      0.81      0.73       188\n",
      "       byron       0.70      0.69      0.69       225\n",
      "       percy       0.67      0.60      0.63       200\n",
      "        mary       0.65      0.58      0.61       187\n",
      "\n",
      "    accuracy                           0.67       800\n",
      "   macro avg       0.67      0.67      0.67       800\n",
      "weighted avg       0.67      0.67      0.67       800\n",
      "\n"
     ]
    }
   ],
   "source": [
    "from sklearn.svm import LinearSVC\n",
    "model_svm=Pipeline([('vect',CountVectorizer()),\n",
    " ('tfidf',TfidfTransformer()),\n",
    " ('clf',LinearSVC(C=1.0,loss='squared_hinge',penalty='l2',dual=False))])\n",
    "model_svm.fit(X_train,y_train)\n",
    "y_pred=model_svm.predict(X_test)\n",
    "print(\"accuracy %s\" % accuracy_score(y_pred,y_test))\n",
    "print(classification_report(y_test,y_pred,target_names=author_names))"
   ]
  },
  {
   "cell_type": "markdown",
   "metadata": {},
   "source": [
    "### We can see that the logistic regression model has an accuracy score of 65% and Linear SVC has an accuracy score of 66%"
   ]
  },
  {
   "cell_type": "markdown",
   "metadata": {},
   "source": [
    "## Evaluation:\n"
   ]
  },
  {
   "cell_type": "code",
   "execution_count": 50,
   "metadata": {},
   "outputs": [],
   "source": [
    "from sklearn.datasets import load_digits\n",
    "digits = load_digits()"
   ]
  },
  {
   "cell_type": "code",
   "execution_count": 51,
   "metadata": {
    "scrolled": true
   },
   "outputs": [
    {
     "data": {
      "image/png": "[encoded data removed]",
      "text/plain": [
       "<Figure size 1440x288 with 5 Axes>"
      ]
     },
     "metadata": {
      "needs_background": "light"
     },
     "output_type": "display_data"
    }
   ],
   "source": [
    "#Visualizing the labels in the dataset\n",
    "\n",
    "plt.figure(figsize=(20,4))\n",
    "for index, (image, label) in enumerate(zip(digits.data[0:5], digits.target[0:5])):\n",
    "    plt.subplot(1, 5, index + 1)\n",
    "    plt.imshow(np.reshape(image, (8,8)), cmap=plt.cm.gray)\n",
    "    plt.title('Training: %i\\n' % label, fontsize = 20)"
   ]
  },
  {
   "cell_type": "markdown",
   "metadata": {},
   "source": [
    "## Results:"
   ]
  },
  {
   "attachments": {
    "image-2.png": {
     "image/png": "[encoded data removed]"
    }
   },
   "cell_type": "markdown",
   "metadata": {},
   "source": [
    "The following are the results from the above analysis:\n",
    "\n",
    "### Out of 3 models used, we could see that author, Lord Byron has the maximum F1 score ie; the weighted average of Precision and Recall. This score takes both false positives and false negatives into account and it is more useful than the accuracy rate. \n",
    "\n",
    "![image-2.png](attachment:image-2.png)"
   ]
  },
  {
   "cell_type": "markdown",
   "metadata": {},
   "source": [
    "## References:\n",
    "\n",
    "https://towardsdatascience.com/a-machine-learning-approach-to-author-identification-of-horror-novels-from-text-snippets-3f1ef5dba634\n",
    "\n",
    "https://www.kaggle.com/sachynk/text-classification-using-svm\n",
    "\n",
    "https://github.com/suewoon/author-identification/blob/master/modelling-explained.ipynb\n",
    "\n",
    "https://www.kaggle.com/srkirkland/author-identification-with-tensorflow\n",
    "\n",
    "http://www.nltk.org/api/nltk.sentiment.html#module-nltk.sentiment.vader\n",
    "\n",
    "https://scikit-learn.org/stable/modules/generated/sklearn.svm.LinearSVC.html\n",
    "\n",
    "https://towardsdatascience.com/logistic-regression-using-python-sklearn-numpy-mnist-handwriting-recognition-matplotlib-a6b31e2b166a"
   ]
  }
 ],
 "metadata": {
  "kernelspec": {
   "display_name": "Python 3",
   "language": "python",
   "name": "python3"
  },
  "language_info": {
   "codemirror_mode": {
    "name": "ipython",
    "version": 3
   },
   "file_extension": ".py",
   "mimetype": "text/x-python",
   "name": "python",
   "nbconvert_exporter": "python",
   "pygments_lexer": "ipython3",
   "version": "3.8.5"
  }
 },
 "nbformat": 4,
 "nbformat_minor": 4
}
